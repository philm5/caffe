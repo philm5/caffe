{
 "cells": [
  {
   "cell_type": "code",
   "execution_count": 80,
   "metadata": {
    "collapsed": false
   },
   "outputs": [],
   "source": [
    "import numpy as np\n",
    "import matplotlib.pyplot as plt\n",
    "%matplotlib inline\n",
    "# Make sure that caffe is on the python path:\n",
    "caffe_root = '../'  # this file is expected to be in {caffe_root}/examples\n",
    "import sys\n",
    "sys.path.insert(0, caffe_root + 'python')\n",
    "\n",
    "import caffe"
   ]
  },
  {
   "cell_type": "code",
   "execution_count": 81,
   "metadata": {
    "collapsed": false
   },
   "outputs": [],
   "source": [
    "caffe.set_mode_cpu()\n",
    "net = caffe.Net('../models/swimmers_fullconv/swimmers_fullconv.prototxt', \n",
    "                '../models/swimmers_fullconv/out_new.binaryproto', caffe.TEST)\n",
    "net.reshape()"
   ]
  },
  {
   "cell_type": "code",
   "execution_count": 83,
   "metadata": {
    "collapsed": false
   },
   "outputs": [
    {
     "name": "stdout",
     "output_type": "stream",
     "text": [
      "(13, 392, 1, 1)\n"
     ]
    }
   ],
   "source": [
    "# find appearances weight blob\n",
    "appearance_weights = net.params['appearances'][0].data\n",
    "print appearance_weights.shape"
   ]
  },
  {
   "cell_type": "code",
   "execution_count": 84,
   "metadata": {
    "collapsed": false
   },
   "outputs": [
    {
     "name": "stdout",
     "output_type": "stream",
     "text": [
      "54 [  2  15  25  40  50  54  72  86  95 101 106 116 125 140 149 161 177 182\n",
      " 192 199 203 216 219 225 235 249 252 260 262 268 273 274 282 284 293 295\n",
      " 300 310 313 323 324 325 327 329 332 339 342 347 358 362 363 366 377 383]\n"
     ]
    }
   ],
   "source": [
    "B = np.where(appearance_weights[2]==1)[0]\n",
    "print len(B), B"
   ]
  },
  {
   "cell_type": "code",
   "execution_count": 69,
   "metadata": {
    "collapsed": false
   },
   "outputs": [],
   "source": [
    "appearance_path = '/data/share/idpr_code/appearanceclasses.txt'\n",
    "\n",
    "def read_appearances(file): \n",
    "    with open(appearance_path) as f:\n",
    "        content = f.readlines()\n",
    "\n",
    "    joints = {}\n",
    "\n",
    "    for line in content:\n",
    "        line = line.replace('\\n', '')\n",
    "        splitted = line.split(\"\\t\")\n",
    "        joint = int(splitted[0])\n",
    "        num = int(splitted[1])\n",
    "        joints[joint] = map(int, splitted[2:2+num]) \n",
    "\n",
    "    return joints"
   ]
  },
  {
   "cell_type": "code",
   "execution_count": 70,
   "metadata": {
    "collapsed": false
   },
   "outputs": [],
   "source": [
    "joints = read_appearances(appearance_path)\n",
    "\n",
    "for j in xrange(appearance_weights.shape[0]):\n",
    "    for index in joints[j]:\n",
    "        appearance_weights[j, index, 0, 0] = 1"
   ]
  },
  {
   "cell_type": "code",
   "execution_count": 58,
   "metadata": {
    "collapsed": false
   },
   "outputs": [],
   "source": []
  },
  {
   "cell_type": "code",
   "execution_count": 72,
   "metadata": {
    "collapsed": false
   },
   "outputs": [
    {
     "name": "stdout",
     "output_type": "stream",
     "text": [
      "9 [  0  13  38  80  84 120 138 175 345]\n"
     ]
    }
   ],
   "source": [
    "B = np.where(appearance_weights[0]==1)[0]\n",
    "print len(B), B"
   ]
  },
  {
   "cell_type": "code",
   "execution_count": 75,
   "metadata": {
    "collapsed": false
   },
   "outputs": [],
   "source": [
    "idprclasses_path = '/data/share/idpr_code/idprclasses.txt'\n",
    "\n",
    "def read_idprclasses(file): \n",
    "    with open(appearance_path) as f:\n",
    "        content = f.readlines()\n",
    "\n",
    "    classes = {}\n",
    "    idx = 0\n",
    "\n",
    "    for line in content:\n",
    "        line = line.replace('\\n', '')\n",
    "        splitted = line.split(\"\\t\")\n",
    "        from_ = int(splitted[0])\n",
    "        to_ = int(splitted[1])\n",
    "        cluster_ = int(splitted[2])\n",
    "        n_ = int(splitted[3])\n",
    "        classes[idx] = map(int, splitted[4:4+n_]) \n",
    "        idx+=1\n",
    "\n",
    "    return classes"
   ]
  },
  {
   "cell_type": "code",
   "execution_count": 76,
   "metadata": {
    "collapsed": true
   },
   "outputs": [],
   "source": [
    "classes = read_idprclasses(idprclasses_path)"
   ]
  },
  {
   "cell_type": "code",
   "execution_count": 79,
   "metadata": {
    "collapsed": false
   },
   "outputs": [
    {
     "name": "stdout",
     "output_type": "stream",
     "text": [
      "152\n"
     ]
    }
   ],
   "source": [
    "print len(classes)"
   ]
  },
  {
   "cell_type": "code",
   "execution_count": 86,
   "metadata": {
    "collapsed": false
   },
   "outputs": [
    {
     "name": "stdout",
     "output_type": "stream",
     "text": [
      "(152, 392, 1, 1)\n"
     ]
    }
   ],
   "source": [
    "# find idprclasses weight blob\n",
    "idprclasses_weights = net.params['idprclasses'][0].data\n",
    "print idprclasses_weights.shape"
   ]
  },
  {
   "cell_type": "code",
   "execution_count": 87,
   "metadata": {
    "collapsed": true
   },
   "outputs": [],
   "source": [
    "classes = read_idprclasses(idprclasses_path)\n",
    "\n",
    "for j in xrange(idprclasses_weights.shape[0]):\n",
    "    for index in classes[j]:\n",
    "        idprclasses_weights[j, index, 0, 0] = 1\n"
   ]
  },
  {
   "cell_type": "code",
   "execution_count": 89,
   "metadata": {
    "collapsed": false
   },
   "outputs": [
    {
     "name": "stdout",
     "output_type": "stream",
     "text": [
      "25 [ 14  49  71 115 130 134 139 174 176 207 213 218 239 244 256 292 306 316\n",
      " 317 326 328 349 360 361 373]\n"
     ]
    }
   ],
   "source": [
    "B = np.where(idprclasses_weights[7]==1)[0]\n",
    "print len(B), B"
   ]
  },
  {
   "cell_type": "code",
   "execution_count": 90,
   "metadata": {
    "collapsed": true
   },
   "outputs": [],
   "source": [
    "# save changes to new binaryproto\n",
    "net.save('../models/swimmers_fullconv/out_new2.binaryproto')"
   ]
  },
  {
   "cell_type": "code",
   "execution_count": null,
   "metadata": {
    "collapsed": true
   },
   "outputs": [],
   "source": []
  }
 ],
 "metadata": {
  "kernelspec": {
   "display_name": "Python 2",
   "language": "python",
   "name": "python2"
  },
  "language_info": {
   "codemirror_mode": {
    "name": "ipython",
    "version": 2
   },
   "file_extension": ".py",
   "mimetype": "text/x-python",
   "name": "python",
   "nbconvert_exporter": "python",
   "pygments_lexer": "ipython2",
   "version": "2.7.11"
  }
 },
 "nbformat": 4,
 "nbformat_minor": 0
}
