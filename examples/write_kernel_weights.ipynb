{
 "cells": [
  {
   "cell_type": "code",
   "execution_count": 30,
   "metadata": {
    "collapsed": false
   },
   "outputs": [],
   "source": [
    "import numpy as np\n",
    "import matplotlib.pyplot as plt\n",
    "%matplotlib inline\n",
    "# Make sure that caffe is on the python path:\n",
    "caffe_root = '../'  # this file is expected to be in {caffe_root}/examples\n",
    "import sys\n",
    "sys.path.insert(0, caffe_root + 'python')\n",
    "\n",
    "import caffe"
   ]
  },
  {
   "cell_type": "code",
   "execution_count": 31,
   "metadata": {
    "collapsed": false
   },
   "outputs": [],
   "source": [
    "caffe.set_mode_cpu()\n",
    "net = caffe.Net('../models/swimmers_fullconv/swimmers_fullconv_small.prototxt', \n",
    "                '../models/swimmers_fullconv/out_new_small.binaryproto', caffe.TEST)\n",
    "net.reshape()"
   ]
  },
  {
   "cell_type": "code",
   "execution_count": 32,
   "metadata": {
    "collapsed": false
   },
   "outputs": [
    {
     "name": "stdout",
     "output_type": "stream",
     "text": [
      "(1, 152, 7, 7)\n"
     ]
    }
   ],
   "source": [
    "# find max_kernels weight blob\n",
    "max_kernels = net.params['idpr_dt'][0].data\n",
    "# max_kernels.reshape(1, 152, 35, 35)\n",
    "print max_kernels.shape"
   ]
  },
  {
   "cell_type": "code",
   "execution_count": 33,
   "metadata": {
    "collapsed": false
   },
   "outputs": [
    {
     "name": "stdout",
     "output_type": "stream",
     "text": [
      "(152,)\n"
     ]
    }
   ],
   "source": [
    "# find scale term weight blob\n",
    "scale_terms = net.params['idpr_dt'][1].data\n",
    "print scale_terms.shape"
   ]
  },
  {
   "cell_type": "code",
   "execution_count": 35,
   "metadata": {
    "collapsed": false
   },
   "outputs": [
    {
     "name": "stdout",
     "output_type": "stream",
     "text": [
      "[[ 0.018  0.013  0.01   0.009  0.01   0.013  0.018]\n",
      " [ 0.013  0.008  0.005  0.004  0.005  0.008  0.013]\n",
      " [ 0.01   0.005  0.002  0.001  0.002  0.005  0.01 ]\n",
      " [ 0.009  0.004  0.001  0.     0.001  0.004  0.009]\n",
      " [ 0.01   0.005  0.002  0.001  0.002  0.005  0.01 ]\n",
      " [ 0.013  0.008  0.005  0.004  0.005  0.008  0.013]\n",
      " [ 0.018  0.013  0.01   0.009  0.01   0.013  0.018]]\n"
     ]
    }
   ],
   "source": [
    "multiplier = 0.001\n",
    "kernel = np.zeros((max_kernels.shape[2], max_kernels.shape[3]))\n",
    "half_size = (kernel.shape[0] - 1) /2\n",
    "tmp_sum = 0\n",
    "\n",
    "for x in xrange(-half_size, half_size+1):\n",
    "    for y in xrange(-half_size, half_size+1):\n",
    "        pixel = multiplier * (x**2 + y**2)\n",
    "        tmp_sum += pixel\n",
    "        kernel[x + half_size ,y + half_size] = pixel\n",
    "\n",
    "print kernel #* (1 / tmp_sum)"
   ]
  },
  {
   "cell_type": "code",
   "execution_count": 36,
   "metadata": {
    "collapsed": false
   },
   "outputs": [],
   "source": [
    "# write every kernel as the same!\n",
    "for i in xrange(max_kernels.shape[1]):\n",
    "    max_kernels[0, i] = kernel"
   ]
  },
  {
   "cell_type": "code",
   "execution_count": 37,
   "metadata": {
    "collapsed": false
   },
   "outputs": [],
   "source": [
    "# write scale terms to 1 (for now...)\n",
    "\n",
    "for i in xrange(scale_terms.shape[0]):\n",
    "    scale_terms[i] = 1"
   ]
  },
  {
   "cell_type": "code",
   "execution_count": 38,
   "metadata": {
    "collapsed": false
   },
   "outputs": [
    {
     "name": "stdout",
     "output_type": "stream",
     "text": [
      "[[[[ 0.018  0.013  0.01  ...,  0.01   0.013  0.018]\n",
      "   [ 0.013  0.008  0.005 ...,  0.005  0.008  0.013]\n",
      "   [ 0.01   0.005  0.002 ...,  0.002  0.005  0.01 ]\n",
      "   ..., \n",
      "   [ 0.01   0.005  0.002 ...,  0.002  0.005  0.01 ]\n",
      "   [ 0.013  0.008  0.005 ...,  0.005  0.008  0.013]\n",
      "   [ 0.018  0.013  0.01  ...,  0.01   0.013  0.018]]\n",
      "\n",
      "  [[ 0.018  0.013  0.01  ...,  0.01   0.013  0.018]\n",
      "   [ 0.013  0.008  0.005 ...,  0.005  0.008  0.013]\n",
      "   [ 0.01   0.005  0.002 ...,  0.002  0.005  0.01 ]\n",
      "   ..., \n",
      "   [ 0.01   0.005  0.002 ...,  0.002  0.005  0.01 ]\n",
      "   [ 0.013  0.008  0.005 ...,  0.005  0.008  0.013]\n",
      "   [ 0.018  0.013  0.01  ...,  0.01   0.013  0.018]]\n",
      "\n",
      "  [[ 0.018  0.013  0.01  ...,  0.01   0.013  0.018]\n",
      "   [ 0.013  0.008  0.005 ...,  0.005  0.008  0.013]\n",
      "   [ 0.01   0.005  0.002 ...,  0.002  0.005  0.01 ]\n",
      "   ..., \n",
      "   [ 0.01   0.005  0.002 ...,  0.002  0.005  0.01 ]\n",
      "   [ 0.013  0.008  0.005 ...,  0.005  0.008  0.013]\n",
      "   [ 0.018  0.013  0.01  ...,  0.01   0.013  0.018]]\n",
      "\n",
      "  ..., \n",
      "  [[ 0.018  0.013  0.01  ...,  0.01   0.013  0.018]\n",
      "   [ 0.013  0.008  0.005 ...,  0.005  0.008  0.013]\n",
      "   [ 0.01   0.005  0.002 ...,  0.002  0.005  0.01 ]\n",
      "   ..., \n",
      "   [ 0.01   0.005  0.002 ...,  0.002  0.005  0.01 ]\n",
      "   [ 0.013  0.008  0.005 ...,  0.005  0.008  0.013]\n",
      "   [ 0.018  0.013  0.01  ...,  0.01   0.013  0.018]]\n",
      "\n",
      "  [[ 0.018  0.013  0.01  ...,  0.01   0.013  0.018]\n",
      "   [ 0.013  0.008  0.005 ...,  0.005  0.008  0.013]\n",
      "   [ 0.01   0.005  0.002 ...,  0.002  0.005  0.01 ]\n",
      "   ..., \n",
      "   [ 0.01   0.005  0.002 ...,  0.002  0.005  0.01 ]\n",
      "   [ 0.013  0.008  0.005 ...,  0.005  0.008  0.013]\n",
      "   [ 0.018  0.013  0.01  ...,  0.01   0.013  0.018]]\n",
      "\n",
      "  [[ 0.018  0.013  0.01  ...,  0.01   0.013  0.018]\n",
      "   [ 0.013  0.008  0.005 ...,  0.005  0.008  0.013]\n",
      "   [ 0.01   0.005  0.002 ...,  0.002  0.005  0.01 ]\n",
      "   ..., \n",
      "   [ 0.01   0.005  0.002 ...,  0.002  0.005  0.01 ]\n",
      "   [ 0.013  0.008  0.005 ...,  0.005  0.008  0.013]\n",
      "   [ 0.018  0.013  0.01  ...,  0.01   0.013  0.018]]]] [ 1.  1.  1.  1.  1.  1.  1.  1.  1.  1.  1.  1.  1.  1.  1.  1.  1.  1.\n",
      "  1.  1.  1.  1.  1.  1.  1.  1.  1.  1.  1.  1.  1.  1.  1.  1.  1.  1.\n",
      "  1.  1.  1.  1.  1.  1.  1.  1.  1.  1.  1.  1.  1.  1.  1.  1.  1.  1.\n",
      "  1.  1.  1.  1.  1.  1.  1.  1.  1.  1.  1.  1.  1.  1.  1.  1.  1.  1.\n",
      "  1.  1.  1.  1.  1.  1.  1.  1.  1.  1.  1.  1.  1.  1.  1.  1.  1.  1.\n",
      "  1.  1.  1.  1.  1.  1.  1.  1.  1.  1.  1.  1.  1.  1.  1.  1.  1.  1.\n",
      "  1.  1.  1.  1.  1.  1.  1.  1.  1.  1.  1.  1.  1.  1.  1.  1.  1.  1.\n",
      "  1.  1.  1.  1.  1.  1.  1.  1.  1.  1.  1.  1.  1.  1.  1.  1.  1.  1.\n",
      "  1.  1.  1.  1.  1.  1.  1.  1.]\n"
     ]
    }
   ],
   "source": [
    "print max_kernels, scale_terms"
   ]
  },
  {
   "cell_type": "code",
   "execution_count": 39,
   "metadata": {
    "collapsed": true
   },
   "outputs": [],
   "source": [
    "# save changes to new binaryproto\n",
    "net.save('../models/swimmers_fullconv/out_new_small.binaryproto')"
   ]
  },
  {
   "cell_type": "code",
   "execution_count": null,
   "metadata": {
    "collapsed": true
   },
   "outputs": [],
   "source": []
  }
 ],
 "metadata": {
  "kernelspec": {
   "display_name": "Python 2",
   "language": "python",
   "name": "python2"
  },
  "language_info": {
   "codemirror_mode": {
    "name": "ipython",
    "version": 2
   },
   "file_extension": ".py",
   "mimetype": "text/x-python",
   "name": "python",
   "nbconvert_exporter": "python",
   "pygments_lexer": "ipython2",
   "version": "2.7.6"
  }
 },
 "nbformat": 4,
 "nbformat_minor": 0
}
