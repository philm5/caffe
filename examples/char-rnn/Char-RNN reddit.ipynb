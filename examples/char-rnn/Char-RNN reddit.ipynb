{
 "cells": [
  {
   "cell_type": "code",
   "execution_count": 1,
   "metadata": {
    "collapsed": true
   },
   "outputs": [],
   "source": [
    "%matplotlib inline"
   ]
  },
  {
   "cell_type": "code",
   "execution_count": 2,
   "metadata": {
    "collapsed": true
   },
   "outputs": [],
   "source": [
    "import numpy as np\n",
    "import matplotlib.pyplot as plt\n",
    "import random\n",
    "\n",
    "import sys\n",
    "sys.path.append('./python')\n",
    "caffe_root = '../../'  # this file is expected to be in {caffe_root}/examples/coco_caption\n",
    "sys.path.insert(0, caffe_root + 'python')\n",
    "import caffe\n",
    "\n",
    "caffe.set_mode_gpu()\n",
    "\n",
    "sys.path.append('./examples/char-rnn')"
   ]
  },
  {
   "cell_type": "code",
   "execution_count": 3,
   "metadata": {
    "collapsed": false
   },
   "outputs": [
    {
     "name": "stdout",
     "output_type": "stream",
     "text": [
      "F\r\n",
      "i\r\n",
      "r\r\n",
      "s\r\n",
      "t\r\n",
      " \r\n",
      "C\r\n",
      "z\r\n",
      "e\r\n",
      "n\r\n"
     ]
    }
   ],
   "source": [
    "!head ../../examples/char-rnn/vocabulary.txt"
   ]
  },
  {
   "cell_type": "code",
   "execution_count": 4,
   "metadata": {
    "collapsed": false
   },
   "outputs": [
    {
     "name": "stdout",
     "output_type": "stream",
     "text": [
      "657\n"
     ]
    }
   ],
   "source": [
    "vocabulary = ['<EOS>'] + [line.strip() for line in\n",
    "                          open('../../examples/char-rnn/vocab_reddit.txt').readlines()]\n",
    "print len(vocabulary)"
   ]
  },
  {
   "cell_type": "code",
   "execution_count": 5,
   "metadata": {
    "collapsed": false
   },
   "outputs": [
    {
     "name": "stdout",
     "output_type": "stream",
     "text": [
      "(1, 1, 657)\n"
     ]
    }
   ],
   "source": [
    "iter_num = 21550\n",
    "net = caffe.Net('../../examples/char-rnn/reddit_deploy.prototxt',\n",
    "                '../../examples/char-rnn/reddit-rnn_iter_%d.caffemodel' % iter_num, caffe.TEST)\n",
    "print net.blobs['probs'].data.shape"
   ]
  },
  {
   "cell_type": "code",
   "execution_count": 6,
   "metadata": {
    "collapsed": true
   },
   "outputs": [],
   "source": [
    "def softmax(softmax_inputs, temp):\n",
    "    shifted_inputs = softmax_inputs - softmax_inputs.max()\n",
    "    exp_outputs = np.exp(temp * shifted_inputs)\n",
    "    exp_outputs_sum = exp_outputs.sum()\n",
    "    if np.isnan(exp_outputs_sum):\n",
    "        return exp_outputs * float('nan')\n",
    "    assert exp_outputs_sum > 0\n",
    "    if np.isinf(exp_outputs_sum):\n",
    "        return np.zeros_like(exp_outputs)\n",
    "    eps_sum = 1e-20\n",
    "    return exp_outputs / max(exp_outputs_sum, eps_sum)\n",
    "\n",
    "def random_choice_from_probs(softmax_inputs, temp=1):\n",
    "    # temperature of infinity == take the max\n",
    "    if temp == float('inf'):\n",
    "        return np.argmax(softmax_inputs)\n",
    "    probs = softmax(softmax_inputs, temp)\n",
    "    r = random.random()\n",
    "    cum_sum = 0.\n",
    "    for i, p in enumerate(probs):\n",
    "        cum_sum += p\n",
    "        if cum_sum >= r: return i\n",
    "    return 1  # return UNK?"
   ]
  },
  {
   "cell_type": "code",
   "execution_count": 7,
   "metadata": {
    "collapsed": true
   },
   "outputs": [],
   "source": [
    "def generate_sentence(net, input_char, temp=float('inf'), output='predict', max_words=200):\n",
    "    cont_input = np.array([0])\n",
    "    word_input = np.array([vocabulary.index(input_char)])\n",
    "    sentence = []\n",
    "    while len(sentence) < max_words and (not sentence or sentence[-1] != 0):\n",
    "        net.forward(cont=cont_input, input=word_input)\n",
    "        output_preds = net.blobs[output].data[0, 0, :]\n",
    "        sentence.append(random_choice_from_probs(output_preds, temp=temp))\n",
    "        cont_input[0] = 1\n",
    "        word_input[0] = sentence[-1]\n",
    "    return sentence\n",
    "\n",
    "def charstostr(char_arr):\n",
    "    out = ''\n",
    "    for i in [vocabulary[index] for index in char_arr]:\n",
    "        if i == '':\n",
    "            i = ' '\n",
    "        if i == '\\\\n':\n",
    "            i = '\\n'\n",
    "        out += i\n",
    "        \n",
    "    return out"
   ]
  },
  {
   "cell_type": "code",
   "execution_count": 8,
   "metadata": {
    "collapsed": false
   },
   "outputs": [
    {
     "name": "stdout",
     "output_type": "stream",
     "text": [
      "Chosen \\u8b66 as startup char with idx 432\n"
     ]
    }
   ],
   "source": [
    "choice = random.randint(0, len(vocabulary) - 1)\n",
    "start_char = vocabulary[choice]\n",
    "print 'Chosen %s as startup char with idx %d' % (start_char, choice)"
   ]
  },
  {
   "cell_type": "code",
   "execution_count": 9,
   "metadata": {
    "collapsed": false
   },
   "outputs": [
    {
     "name": "stdout",
     "output_type": "stream",
     "text": [
      "[3, 18, 21, 10, 3, 36, 11, 19, 34, 6, 10, 31, 3, 14, 5, 3, 18, 21, 7, 18, 3, 18, 21, 10, 3, 36, 11, 19, 34, 6, 10, 31, 3, 14, 5, 3, 18, 21, 7, 18, 3, 18, 21, 10, 3, 36, 11, 19, 34, 6, 10, 31, 3, 14, 5, 3, 18, 21, 7, 18, 3, 18, 21, 10, 3, 36, 11, 19, 34, 6, 10, 31, 3, 14, 5, 3, 18, 21, 7, 18, 3, 18, 21, 10, 3, 36, 11, 19, 34, 6, 10, 31, 3, 14, 5, 3, 18, 21, 7, 18, 3, 18, 21, 10, 3, 36, 11, 19, 34, 6, 10, 31, 3, 14, 5, 3, 18, 21, 7, 18, 3, 18, 21, 10, 3, 36, 11, 19, 34, 6, 10, 31, 3, 14, 5, 3, 18, 21, 7, 18, 3, 18, 21, 10, 3, 36, 11, 19, 34, 6, 10, 31, 3, 14, 5, 3, 18, 21, 7, 18, 3, 18, 21, 10, 3, 36, 11, 19, 34, 6, 10, 31, 3, 14, 5, 3, 18, 21, 7, 18, 3, 18, 21, 10, 3, 36, 11, 19, 34, 6, 10, 31, 3, 14, 5, 3, 18, 21, 7, 18]\n",
      " the problem is that the problem is that the problem is that the problem is that the problem is that the problem is that the problem is that the problem is that the problem is that the problem is that\n"
     ]
    }
   ],
   "source": [
    "sentence = generate_sentence(net, start_char)\n",
    "print sentence\n",
    "print charstostr(sentence)"
   ]
  },
  {
   "cell_type": "code",
   "execution_count": 10,
   "metadata": {
    "collapsed": false,
    "scrolled": true
   },
   "outputs": [
    {
     "name": "stdout",
     "output_type": "stream",
     "text": [
      "[3, 18, 21, 10, 3, 36, 11, 19, 34, 6, 10, 31, 3, 14, 5, 3, 18, 21, 7, 18, 3, 18, 21, 10, 3, 36, 11, 19, 34, 6, 10, 31, 3, 14, 5, 3, 18, 21, 7, 18, 3, 18, 21, 10, 3, 36, 11, 19, 34, 6, 10, 31, 3, 14, 5, 3, 18, 21, 7, 18, 3, 18, 21, 10, 3, 36, 11, 19, 34, 6, 10, 31, 3, 14, 5, 3, 18, 21, 7, 18, 3, 18, 21, 10, 3, 36, 11, 19, 34, 6, 10, 31, 3, 14, 5, 3, 18, 21, 7, 18, 3, 18, 21, 10, 3, 36, 11, 19, 34, 6, 10, 31, 3, 14, 5, 3, 18, 21, 7, 18, 3, 18, 21, 10, 3, 36, 11, 19, 34, 6, 10, 31, 3, 14, 5, 3, 18, 21, 7, 18, 3, 18, 21, 10, 3, 36, 11, 19, 34, 6, 10, 31, 3, 14, 5, 3, 18, 21, 7, 18, 3, 18, 21, 10, 3, 36, 11, 19, 34, 6, 10, 31, 3, 14, 5, 3, 18, 21, 7, 18, 3, 18, 21, 10, 3, 36, 11, 19, 34, 6, 10, 31, 3, 14, 5, 3, 18, 21, 7, 18]\n",
      " the problem is that the problem is that the problem is that the problem is that the problem is that the problem is that the problem is that the problem is that the problem is that the problem is that\n"
     ]
    }
   ],
   "source": [
    "sentence = generate_sentence(net, start_char)\n",
    "print sentence\n",
    "print charstostr(sentence)"
   ]
  },
  {
   "cell_type": "code",
   "execution_count": 11,
   "metadata": {
    "collapsed": false
   },
   "outputs": [
    {
     "name": "stdout",
     "output_type": "stream",
     "text": [
      "[11, 10, 8, 44, 21, 12, 3, 14, 18, 3, 7, 6, 5, 19, 3, 9, 11, 10, 5, 5, 10, 9, 3, 7, 17, 18, 19, 31, 7, 18, 14, 44, 7, 6, 6, 23, 12, 3, 7, 11, 10, 3, 23, 19, 17, 3, 15, 21, 10, 11, 10, 3, 18, 21, 19, 5, 10, 3, 15, 19, 17, 6, 9, 3, 6, 19, 19, 33, 3, 7, 18, 3, 23, 19, 17, 11, 3, 19, 15, 8, 3, 44, 7, 17, 5, 14, 8, 20, 3, 19, 11, 3, 5, 21, 19, 11, 18, 3, 11, 10, 44, 10, 14, 30, 10, 11, 28, 3, 40, 17, 18, 3, 18, 21, 14, 5, 3, 14, 5, 8, 29, 18, 3, 18, 21, 7, 18, 3, 31, 23, 3, 8, 7, 18, 17, 11, 7, 6, 3, 14, 5, 5, 17, 10, 12, 3, 14, 5, 3, 9, 10, 32, 14, 8, 14, 18, 10, 6, 23, 3, 5, 6, 7, 30, 10, 5, 12, 3, 20, 19, 3, 18, 19, 3, 18, 21, 10, 3, 20, 23, 31, 3, 14, 5, 3, 7, 34, 19, 17, 18, 3, 86, 3, 36, 11, 19, 18, 10, 5, 18]\n",
      "rench, it also dressed automatically, are you where those would look at your own causing or short receiver. But this isn't that my natural issue, is definitely slaves, go to the gym is about 7 protest\n"
     ]
    }
   ],
   "source": [
    "sentence = generate_sentence(net, start_char, temp=1.0)\n",
    "print sentence\n",
    "print charstostr(sentence)"
   ]
  },
  {
   "cell_type": "code",
   "execution_count": 16,
   "metadata": {
    "collapsed": false
   },
   "outputs": [
    {
     "name": "stdout",
     "output_type": "stream",
     "text": [
      "[20, 14, 43, 14, 43, 12, 3, 13, 17, 11, 11, 23, 3, 45, 11, 14, 34, 10, 3, 56, 60, 28, 22, 22, 50, 7, 31, 36, 51, 8, 34, 5, 36, 51, 22, 22, 45, 21, 14, 5, 3, 14, 5, 3, 7, 3, 5, 18, 7, 8, 9, 7, 11, 9, 3, 32, 19, 19, 33, 3, 14, 32, 3, 18, 21, 10, 23, 3, 9, 14, 9, 8, 29, 18, 3, 11, 10, 7, 6, 6, 23, 3, 10, 8, 6, 10, 44, 18, 3, 31, 10, 3, 34, 10, 3, 18, 21, 10, 3, 32, 14, 11, 5, 18, 3, 7, 8, 20, 10, 11, 3, 19, 8, 10, 5, 28, 3, 4, 18, 3, 15, 19, 11, 33, 5, 28, 3, 45, 21, 14, 5, 3, 15, 7, 5, 3, 7, 3, 17, 8, 14, 53, 17, 10, 12, 3, 18, 21, 10, 23, 3, 15, 10, 11, 10, 3, 24, 75, 3, 23, 10, 7, 11, 5, 3, 19, 6, 9, 28, 1, 22, 1, 61, 19, 11, 3, 31, 10, 3, 15, 11, 14, 18, 14, 20, 10, 3, 10, 77, 18, 11, 7, 44, 18, 19, 11, 39, 3, 45, 21]\n",
      "giziz, Murry Tribe OP.\n",
      "\n",
      "&amp;nbsp;\n",
      "\n",
      "This is a standard fook if they didn't really enlect me be the first anger ones. It works. This was a unique, they were 12 years old.\"\n",
      "\"For me writige extractor! Th\n"
     ]
    }
   ],
   "source": [
    "sentence = generate_sentence(net, start_char, temp=1.0)\n",
    "print sentence\n",
    "print charstostr(sentence)"
   ]
  },
  {
   "cell_type": "code",
   "execution_count": 17,
   "metadata": {
    "collapsed": false
   },
   "outputs": [
    {
     "name": "stdout",
     "output_type": "stream",
     "text": [
      "[3, 44, 19, 8, 18, 11, 19, 6, 3, 19, 32, 3, 18, 21, 10, 3, 31, 7, 14, 8, 3, 18, 10, 11, 31, 5, 3, 19, 32, 3, 5, 18, 7, 18, 10, 52, 15, 14, 6, 6, 3, 34, 10, 3, 11, 10, 7, 6, 6, 23, 3, 31, 10, 7, 8, 18, 3, 18, 19, 3, 34, 17, 23, 3, 7, 8, 23, 18, 21, 14, 8, 20, 3, 10, 6, 5, 10, 3, 36, 11, 19, 20, 11, 7, 31, 31, 14, 8, 20, 3, 7, 8, 9, 3, 5, 10, 10, 3, 21, 19, 15, 3, 31, 7, 8, 23, 3, 36, 10, 19, 36, 6, 10, 3, 5, 21, 19, 17, 6, 9, 3, 9, 19, 3, 7, 8, 23, 18, 21, 14, 8, 20, 3, 10, 30, 10, 11, 23, 19, 8, 10, 3, 10, 6, 5, 10, 3, 18, 19, 3, 34, 10, 3, 5, 19, 3, 31, 17, 44, 21, 3, 34, 10, 18, 18, 10, 11, 3, 18, 21, 7, 8, 3, 19, 8, 10, 3, 18, 21, 14, 8, 20, 3, 18, 19, 3, 9, 19, 3, 18, 21, 7, 18, 3, 14, 32, 3, 4, 3, 44]\n",
      " control of the main terms of state-will be really meant to buy anything else programming and see how many people should do anything everyone else to be so much better than one thing to do that if I c\n"
     ]
    }
   ],
   "source": [
    "sentence = generate_sentence(net, start_char, temp=1.5)\n",
    "print sentence\n",
    "print charstostr(sentence)"
   ]
  },
  {
   "cell_type": "code",
   "execution_count": 18,
   "metadata": {
    "collapsed": false
   },
   "outputs": [
    {
     "name": "stdout",
     "output_type": "stream",
     "text": [
      "[8, 10, 9, 28, 22, 22, 82, 3, 63, 83, 65, 27, 3, 3, 32, 19, 11, 3, 18, 21, 10, 3, 11, 7, 18, 10, 9, 3, 81, 10, 15, 3, 55, 19, 30, 10, 3, 2, 19, 19, 20, 6, 10, 3, 2, 7, 31, 10, 36, 11, 7, 20, 20, 10, 11, 10, 11, 5, 3, 7, 8, 9, 3, 60, 57, 60, 3, 14, 5, 3, 5, 18, 14, 6, 6, 3, 19, 8, 6, 23, 3, 7, 3, 44, 6, 19, 5, 10, 11, 28, 3, 3, 40, 17, 18, 3, 15, 10, 3, 8, 10, 10, 9, 3, 18, 19, 3, 5, 18, 7, 23, 3, 14, 8, 3, 7, 3, 11, 10, 7, 6, 3, 11, 10, 7, 9, 14, 8, 20, 3, 18, 21, 7, 18, 3, 18, 21, 10, 11, 10, 3, 7, 11, 10, 3, 5, 7, 23, 14, 8, 20, 3, 18, 21, 10, 23, 3, 44, 19, 17, 8, 18, 3, 7, 3, 5, 17, 36, 10, 11, 3, 44, 19, 31, 36, 6, 10, 77, 3, 9, 10, 18, 10, 11, 31, 14, 8, 14, 8, 20, 3, 7, 18, 3, 18, 21, 10, 3, 5, 7]\n",
      "ned.\n",
      "\n",
      "* ~690  for the rated New Love Google Gamepraggerers and PVP is still only a closer.  But we need to stay in a real reading that there are saying they count a super complex determining at the sa\n"
     ]
    }
   ],
   "source": [
    "sentence = generate_sentence(net, start_char, temp=1.5)\n",
    "print sentence\n",
    "print charstostr(sentence)"
   ]
  },
  {
   "cell_type": "code",
   "execution_count": 19,
   "metadata": {
    "collapsed": false
   },
   "outputs": [
    {
     "name": "stdout",
     "output_type": "stream",
     "text": [
      "[39, 22, 1, 46, 19, 15, 3, 9, 19, 3, 23, 19, 17, 3, 18, 21, 14, 8, 33, 3, 18, 21, 10, 23, 3, 15, 19, 17, 6, 9, 3, 21, 7, 30, 10, 3, 34, 10, 10, 8, 3, 7, 3, 6, 19, 8, 20, 3, 18, 14, 31, 10, 3, 18, 19, 3, 5, 10, 10, 3, 14, 32, 3, 23, 19, 17, 3, 15, 7, 8, 18, 3, 18, 19, 3, 5, 18, 7, 11, 18, 3, 18, 21, 10, 3, 44, 19, 8, 18, 11, 19, 6, 3, 19, 32, 3, 18, 21, 10, 3, 11, 10, 7, 5, 19, 8, 5, 3, 18, 21, 7, 18, 3, 7, 11, 10, 3, 19, 8, 3, 18, 21, 10, 3, 5, 7, 31, 10, 3, 18, 14, 31, 10, 3, 18, 19, 3, 7, 5, 33, 3, 18, 21, 10, 3, 18, 21, 14, 8, 20, 5, 3, 18, 21, 7, 18, 3, 7, 11, 10, 3, 36, 11, 10, 18, 18, 23, 3, 31, 17, 44, 21, 3, 7, 5, 3, 4, 3, 11, 10, 7, 6, 6, 23, 3, 34, 10, 3, 7, 3, 36, 11, 19, 34, 6, 10, 31, 3, 15, 14]\n",
      "!\n",
      "\"How do you think they would have been a long time to see if you want to start the control of the reasons that are on the same time to ask the things that are pretty much as I really be a problem wi\n"
     ]
    }
   ],
   "source": [
    "sentence = generate_sentence(net, start_char, temp=3.0)\n",
    "print sentence\n",
    "print charstostr(sentence)"
   ]
  },
  {
   "cell_type": "code",
   "execution_count": 20,
   "metadata": {
    "collapsed": false
   },
   "outputs": [
    {
     "name": "stdout",
     "output_type": "stream",
     "text": [
      "[3, 5, 18, 7, 18, 10, 5, 3, 18, 19, 3, 7, 30, 19, 14, 9, 3, 18, 21, 10, 3, 44, 21, 7, 8, 44, 10, 3, 18, 19, 3, 5, 10, 10, 3, 14, 32, 3, 18, 21, 10, 23, 3, 15, 7, 8, 18, 3, 18, 19, 3, 34, 10, 3, 7, 3, 31, 7, 8, 3, 15, 21, 19, 3, 11, 10, 7, 6, 14, 43, 10, 9, 3, 18, 21, 7, 18, 3, 14, 18, 3, 14, 5, 3, 16, 17, 5, 18, 3, 7, 3, 31, 7, 5, 5, 14, 30, 10, 3, 20, 7, 31, 10, 3, 18, 21, 7, 18, 3, 15, 10, 3, 9, 19, 8, 29, 18, 3, 21, 7, 30, 10, 3, 7, 3, 5, 10, 44, 19, 8, 9, 3, 36, 6, 7, 23, 10, 11, 3, 15, 21, 10, 8, 3, 18, 21, 10, 23, 3, 44, 19, 17, 6, 9, 3, 21, 7, 30, 10, 3, 5, 10, 10, 8, 3, 7, 3, 32, 10, 15, 3, 19, 11, 3, 5, 19, 31, 10, 18, 21, 14, 8, 20, 3, 18, 19, 3, 34, 10, 3, 7, 3, 30, 10, 11, 23, 3, 5, 18, 11]\n",
      " states to avoid the chance to see if they want to be a man who realized that it is just a massive game that we don't have a second player when they could have seen a few or something to be a very str\n"
     ]
    }
   ],
   "source": [
    "sentence = generate_sentence(net, start_char, temp=3.0)\n",
    "print sentence\n",
    "print charstostr(sentence)"
   ]
  },
  {
   "cell_type": "code",
   "execution_count": 21,
   "metadata": {
    "collapsed": false
   },
   "outputs": [
    {
     "name": "stdout",
     "output_type": "stream",
     "text": [
      "[3, 18, 21, 10, 3, 36, 19, 14, 8, 18, 3, 14, 5, 3, 18, 21, 7, 18, 3, 18, 21, 10, 3, 36, 11, 19, 34, 6, 10, 31, 3, 14, 5, 3, 18, 21, 7, 18, 3, 18, 21, 10, 3, 36, 11, 19, 34, 6, 10, 31, 3, 14, 5, 3, 18, 21, 7, 18, 3, 18, 21, 10, 3, 36, 11, 19, 34, 6, 10, 31, 3, 14, 5, 3, 18, 21, 7, 18, 3, 18, 21, 10, 3, 36, 11, 19, 34, 6, 10, 31, 3, 14, 5, 3, 18, 21, 7, 18, 3, 18, 21, 10, 3, 36, 11, 19, 34, 6, 10, 31, 3, 14, 5, 3, 18, 21, 7, 18, 3, 18, 21, 10, 3, 18, 11, 7, 9, 10, 3, 9, 10, 44, 14, 5, 14, 19, 8, 3, 14, 5, 3, 18, 21, 10, 3, 19, 8, 6, 23, 3, 18, 21, 14, 8, 20, 3, 18, 21, 7, 18, 3, 15, 7, 5, 3, 7, 3, 34, 14, 18, 3, 19, 32, 3, 7, 3, 44, 19, 8, 18, 11, 7, 44, 18, 3, 32, 19, 11, 3, 18, 21, 10, 3, 11, 10, 5, 18, 3, 19, 32]\n",
      " the point is that the problem is that the problem is that the problem is that the problem is that the problem is that the trade decision is the only thing that was a bit of a contract for the rest of\n"
     ]
    }
   ],
   "source": [
    "sentence = generate_sentence(net, start_char, temp=10.0)\n",
    "print sentence\n",
    "print charstostr(sentence)"
   ]
  },
  {
   "cell_type": "code",
   "execution_count": 22,
   "metadata": {
    "collapsed": false
   },
   "outputs": [
    {
     "name": "stdout",
     "output_type": "stream",
     "text": [
      "[22, 1, 81, 19, 18, 3, 5, 17, 11, 10, 3, 17, 18, 10, 5, 12, 3, 36, 10, 11, 5, 19, 8, 7, 6, 3, 32, 7, 44, 18, 14, 19, 8, 3, 11, 10, 6, 7, 18, 10, 9, 3, 18, 19, 3, 10, 30, 14, 9, 10, 8, 44, 10, 3, 32, 19, 11, 3, 44, 21, 10, 7, 36, 10, 11, 28, 1, 22, 1, 2, 19, 19, 9, 3, 8, 19, 18, 14, 44, 10, 3, 7, 5, 3, 7, 8, 23, 3, 14, 9, 10, 7, 28, 3, 1, 22, 1, 45, 21, 7, 18, 29, 5, 3, 24, 27, 59, 76, 27, 28, 3, 47, 14, 18, 21, 3, 14, 9, 52, 6, 7, 8, 9, 3, 7, 18, 3, 21, 14, 5, 3, 11, 19, 34, 19, 18, 3, 18, 19, 3, 76, 22, 6, 23, 6, 52, 25, 3, 5, 17, 36, 36, 23, 3, 34, 6, 17, 10, 3, 14, 5, 18, 3, 6, 14, 33, 10, 3, 54, 30, 26, 3, 45, 19, 17, 44, 21, 36, 7, 9, 1, 22, 90, 22, 21, 18, 18, 36, 41, 59, 59, 5, 18, 7, 18, 14, 44, 59, 20, 17]\n",
      "\n",
      "\"Not sure utes, personal faction related to evidence for cheaper.\"\n",
      "\"Good notice as any idea. \"\n",
      "\"That's 10/30. With id-land at his robot to 3\n",
      "lyl-8 suppy blue ist like Ev4 Touchpad\"\n",
      "\\r\n",
      "http://static/gu\n"
     ]
    }
   ],
   "source": [
    "sentence = generate_sentence(net, start_char, temp=1.0)\n",
    "print sentence\n",
    "print charstostr(sentence)"
   ]
  },
  {
   "cell_type": "code",
   "execution_count": 24,
   "metadata": {
    "collapsed": false
   },
   "outputs": [
    {
     "name": "stdout",
     "output_type": "stream",
     "text": [
      "[11, 7, 9, 10, 3, 9, 10, 31, 7, 8, 9, 3, 8, 19, 3, 36, 7, 8, 10, 18, 3, 6, 14, 32, 10, 3, 14, 5, 3, 7, 3, 11, 19, 23, 7, 6, 3, 19, 8, 3, 35, 21, 14, 8, 14, 5, 21, 14, 8, 10, 5, 3, 13, 25, 28, 3, 4, 29, 31, 3, 10, 9, 14, 44, 6, 10, 9, 3, 7, 8, 9, 3, 9, 14, 10, 3, 5, 10, 7, 18, 5, 3, 19, 11, 3, 14, 5, 3, 18, 21, 7, 18, 3, 18, 21, 10, 11, 10, 29, 5, 3, 8, 19, 18, 21, 14, 8, 20, 3, 18, 21, 19, 17, 20, 21, 3, 19, 21, 12, 3, 18, 21, 10, 23, 29, 6, 6, 3, 11, 17, 14, 8, 3, 19, 17, 11, 3, 9, 11, 36, 3, 14, 8, 18, 11, 19, 22, 18, 21, 7, 18, 3, 15, 19, 17, 6, 9, 8, 18, 3, 9, 19, 31, 10, 3, 18, 21, 10, 3, 75, 3, 5, 7, 31, 10, 3, 5, 44, 19, 15, 10, 9, 3, 19, 11, 3, 21, 10, 11, 10, 28, 3, 1, 22, 75, 27, 24, 28, 3, 4]\n",
      "rade demand no panet life is a royal on Chinishines M8. I'm edicled and die seats or is that there's nothing though oh, they'll ruin our drp intro\n",
      "that wouldnt dome the 2 same scowed or here. \"\n",
      "201. I\n"
     ]
    }
   ],
   "source": [
    "sentence = generate_sentence(net, start_char, temp=0.8)\n",
    "print sentence\n",
    "print charstostr(sentence)"
   ]
  },
  {
   "cell_type": "code",
   "execution_count": null,
   "metadata": {
    "collapsed": true
   },
   "outputs": [],
   "source": [
    "sentence = generate_sentence(net, start_char, temp=0.8)\n",
    "print sentence\n",
    "print charstostr(sentence)"
   ]
  },
  {
   "cell_type": "code",
   "execution_count": null,
   "metadata": {
    "collapsed": true
   },
   "outputs": [],
   "source": [
    "sentence = generate_sentence(net, start_char, temp=0.6)\n",
    "print sentence\n",
    "print charstostr(sentence)"
   ]
  },
  {
   "cell_type": "code",
   "execution_count": null,
   "metadata": {
    "collapsed": true
   },
   "outputs": [],
   "source": [
    "sentence = generate_sentence(net, start_char, temp=0.5)\n",
    "print sentence\n",
    "print charstostr(sentence)"
   ]
  },
  {
   "cell_type": "code",
   "execution_count": null,
   "metadata": {
    "collapsed": true
   },
   "outputs": [],
   "source": []
  }
 ],
 "metadata": {
  "kernelspec": {
   "display_name": "Python 2",
   "language": "python",
   "name": "python2"
  },
  "language_info": {
   "codemirror_mode": {
    "name": "ipython",
    "version": 2
   },
   "file_extension": ".py",
   "mimetype": "text/x-python",
   "name": "python",
   "nbconvert_exporter": "python",
   "pygments_lexer": "ipython2",
   "version": "2.7.11"
  }
 },
 "nbformat": 4,
 "nbformat_minor": 0
}
