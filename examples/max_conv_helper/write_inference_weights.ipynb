{
 "cells": [
  {
   "cell_type": "code",
   "execution_count": 3,
   "metadata": {
    "collapsed": false
   },
   "outputs": [
    {
     "name": "stderr",
     "output_type": "stream",
     "text": [
      "../../python/caffe/pycaffe.py:13: RuntimeWarning: to-Python converter for boost::shared_ptr<caffe::Net<float> > already registered; second conversion method ignored.\n",
      "  from ._caffe import Net, SGDSolver, NesterovSolver, AdaGradSolver, \\\n",
      "../../python/caffe/pycaffe.py:13: RuntimeWarning: to-Python converter for boost::shared_ptr<caffe::Blob<float> > already registered; second conversion method ignored.\n",
      "  from ._caffe import Net, SGDSolver, NesterovSolver, AdaGradSolver, \\\n",
      "../../python/caffe/pycaffe.py:13: RuntimeWarning: to-Python converter for boost::shared_ptr<caffe::Solver<float> > already registered; second conversion method ignored.\n",
      "  from ._caffe import Net, SGDSolver, NesterovSolver, AdaGradSolver, \\\n"
     ]
    }
   ],
   "source": [
    "import numpy as np\n",
    "import matplotlib.pyplot as plt\n",
    "%matplotlib inline\n",
    "# Make sure that caffe is on the python path:\n",
    "caffe_root = '../../'  # this file is expected to be in {caffe_root}/examples\n",
    "import sys\n",
    "sys.path.insert(0, caffe_root + 'python')\n",
    "\n",
    "import caffe"
   ]
  },
  {
   "cell_type": "code",
   "execution_count": 5,
   "metadata": {
    "collapsed": false
   },
   "outputs": [],
   "source": [
    "caffe.set_mode_cpu()\n",
    "#net = caffe.Net('../../models/swimmers_fullconv/swimmers_fullconv_big_51x51.prototxt', \n",
    "#                '../../models/swimmers_fullconv/swimmers_fullconv_big_51x51.protobuf', caffe.TEST)\n",
    "net = caffe.Net('../../models/swimmers_fullconv/swimmers_fullconv.prototxt', \n",
    "                '../../models/swimmers_fullconv/swimmers_fullconv.caffemodel', caffe.TEST)\n",
    "net.reshape()"
   ]
  },
  {
   "cell_type": "code",
   "execution_count": 6,
   "metadata": {
    "collapsed": false
   },
   "outputs": [
    {
     "name": "stdout",
     "output_type": "stream",
     "text": [
      "(13,)\n",
      "[ 0.  0.  0.  0.  0.  0.  0.  0.  0.  0.  0.  0.  0.]\n",
      "(152,)\n",
      "[ 0.  0.  0.  0.  0.  0.  0.  0.  0.  0.  0.  0.  0.  0.  0.  0.  0.  0.\n",
      "  0.  0.  0.  0.  0.  0.  0.  0.  0.  0.  0.  0.  0.  0.  0.  0.  0.  0.\n",
      "  0.  0.  0.  0.  0.  0.  0.  0.  0.  0.  0.  0.  0.  0.  0.  0.  0.  0.\n",
      "  0.  0.  0.  0.  0.  0.  0.  0.  0.  0.  0.  0.  0.  0.  0.  0.  0.  0.\n",
      "  0.  0.  0.  0.  0.  0.  0.  0.  0.  0.  0.  0.  0.  0.  0.  0.  0.  0.\n",
      "  0.  0.  0.  0.  0.  0.  0.  0.  0.  0.  0.  0.  0.  0.  0.  0.  0.  0.\n",
      "  0.  0.  0.  0.  0.  0.  0.  0.  0.  0.  0.  0.  0.  0.  0.  0.  0.  0.\n",
      "  0.  0.  0.  0.  0.  0.  0.  0.  0.  0.  0.  0.  0.  0.  0.  0.  0.  0.\n",
      "  0.  0.  0.  0.  0.  0.  0.  0.]\n",
      "(12, 915)\n",
      "[[ 0.  0.  0. ...,  0.  0.  0.]\n",
      " [ 0.  0.  0. ...,  0.  0.  0.]\n",
      " [ 0.  0.  0. ...,  0.  0.  0.]\n",
      " ..., \n",
      " [ 0.  0.  0. ...,  0.  0.  0.]\n",
      " [ 0.  0.  0. ...,  0.  0.  0.]\n",
      " [ 0.  0.  0. ...,  0.  0.  0.]]\n"
     ]
    }
   ],
   "source": [
    "# find max_kernels weight blob\n",
    "app_weights = net.params['inference'][0].data\n",
    "idpr_weights = net.params['inference'][1].data\n",
    "inf_weights = net.params['inference'][2].data\n",
    "# max_kernels.reshape(1, 152, 35, 35)\n",
    "print app_weights.shape\n",
    "print app_weights\n",
    "print idpr_weights.shape\n",
    "print idpr_weights\n",
    "print inf_weights.shape\n",
    "print inf_weights"
   ]
  },
  {
   "cell_type": "code",
   "execution_count": 7,
   "metadata": {
    "collapsed": false
   },
   "outputs": [],
   "source": [
    "weightsfile = '/data/hdd/harzig/idpr/idpr_code/weights.txt'\n",
    "\n",
    "\n",
    "def getW(fname):\n",
    "\n",
    "    with open(fname) as f:\n",
    "        content = f.readlines()\n",
    "        \n",
    "    nums = content[0].split(\"\\t\")\n",
    "    nbApp = int(nums[0])\n",
    "    nbIdpr = int(nums[1])\n",
    "    nbDef = int(nums[2])\n",
    "    nbBias = int(nums[3])\n",
    "\n",
    "    #print nbApp, nbIdpr, nbDef, nbBias\n",
    "    arr = content[1].split(\"\\t\")[:-1]\n",
    "    #print (len(arr))\n",
    "    w = map(float, arr)\n",
    "    \n",
    "    return nbApp, nbIdpr, nbDef, nbBias, w\n",
    "    \n",
    "\n",
    "def getDefWeight(fname, idx):\n",
    "    nbApp, nbIdpr, nbDef, nbBias, w = getW(fname)\n",
    "    return w[nbApp+nbIdpr+2*idx]\n",
    "    \n",
    "\n",
    "def getAppWeight(fname, idx):\n",
    "    nbApp, nbIdpr, nbDef, nbBias, w = getW(fname)\n",
    "    return w[idx]\n",
    "    \n",
    "\n",
    "def getIdprWeight(fname, idx):\n",
    "    nbApp, nbIdpr, nbDef, nbBias, w = getW(fname)\n",
    "    return w[nbApp + idx]\n",
    "    "
   ]
  },
  {
   "cell_type": "code",
   "execution_count": 8,
   "metadata": {
    "collapsed": false
   },
   "outputs": [
    {
     "data": {
      "text/plain": [
       "0.000145480002192"
      ]
     },
     "execution_count": 8,
     "metadata": {},
     "output_type": "execute_result"
    }
   ],
   "source": [
    "getDefWeight(weightsfile, 0)"
   ]
  },
  {
   "cell_type": "code",
   "execution_count": 9,
   "metadata": {
    "collapsed": false
   },
   "outputs": [],
   "source": [
    "# app weights\n",
    "for i in xrange(len(app_weights)):\n",
    "    app_weights[i] = getAppWeight(weightsfile, i)"
   ]
  },
  {
   "cell_type": "code",
   "execution_count": 10,
   "metadata": {
    "collapsed": false
   },
   "outputs": [],
   "source": [
    "# idpr weights\n",
    "for i in xrange(len(idpr_weights)):\n",
    "    idpr_weights[i] = getIdprWeight(weightsfile, i)"
   ]
  },
  {
   "cell_type": "code",
   "execution_count": null,
   "metadata": {
    "collapsed": true
   },
   "outputs": [],
   "source": []
  },
  {
   "cell_type": "code",
   "execution_count": 11,
   "metadata": {
    "collapsed": false
   },
   "outputs": [
    {
     "name": "stdout",
     "output_type": "stream",
     "text": [
      "[ 1.09621286  0.95296675  0.98521286  1.04119349  0.90531331  0.93934429\n",
      "  0.97585994  0.93734163  0.90461165  1.01195228  1.06271768  1.09141815\n",
      "  0.94990855] [ 1.03209507  0.92009884  1.00095177  0.98417425  0.97996563  1.09713984\n",
      "  1.05034983  0.99681979  1.01559186  1.02080476  1.04906559  1.07153773\n",
      "  1.00231814  1.08399558  1.05299282  0.91242748  0.94260001  1.06054032\n",
      "  1.04545438  1.00901711  0.93873203  0.95100695  1.05515635  1.09075558\n",
      "  0.95878881  0.92326629  1.06175244  0.93323022  1.01065707  0.90047115\n",
      "  1.09944689  0.90231824  0.95849252  1.02305615  0.96060085  0.99355119\n",
      "  1.0622015   1.00351357  1.03879714  1.0129869   1.0973655   0.95312589\n",
      "  1.09404159  0.95652074  0.91883159  1.00791276  0.92635107  1.07937729\n",
      "  0.97353244  0.99549675  1.00919902  0.92269731  0.98536545  0.94859672\n",
      "  0.90581608  1.0771296   0.91503638  1.0764637   0.96241409  1.00676894\n",
      "  1.00686538  0.91978419  1.0148325   1.0109576   1.08593464  1.09127724\n",
      "  1.05205524  1.05204427  1.09879935  0.96277511  1.08689272  0.95166373\n",
      "  0.95391655  1.0854255   0.92231309  1.03015649  0.94717824  1.03217733\n",
      "  1.00079143  0.94754767  0.93582684  0.91732424  0.94330466  0.96038818\n",
      "  1.03213823  0.95742893  1.0266571   1.0080148   1.09683335  0.92747253\n",
      "  1.09060371  1.02782059  1.09892941  0.97918922  1.07477868  0.96011168\n",
      "  0.9841525   1.03761244  1.09249794  0.94553244  0.92571831  0.98503315\n",
      "  1.06794345  1.04191744  1.09228182  0.91419017  1.0242902   0.97016346\n",
      "  0.96704316  1.03096771  1.00395536  1.00817788  0.97073042  1.07765055\n",
      "  1.02188051  0.92067027  1.09883332  0.94749779  1.02959323  1.04997492\n",
      "  0.98963952  1.00686824  1.02816093  0.9206742   1.08665836  1.08061159\n",
      "  0.92934716  0.97061121  0.91988206  0.9292568   1.00022566  0.96921784\n",
      "  0.95058841  0.91378146  1.07036042  0.92506284  0.93409497  1.09514523\n",
      "  1.04306805  1.03698742  1.03804672  0.98953414  0.97693408  1.06947088\n",
      "  1.01546657  0.98065335  1.09446621  0.93751067  0.93568331  0.94000363\n",
      "  0.99326402  1.05890417]\n"
     ]
    }
   ],
   "source": [
    "print app_weights, idpr_weights"
   ]
  },
  {
   "cell_type": "code",
   "execution_count": 12,
   "metadata": {
    "collapsed": false
   },
   "outputs": [],
   "source": [
    "# load connections and which maps to add up\n",
    "inferencefile = '/data/hdd/harzig/idpr/idpr_code_dcnn/inference.txt'\n",
    "\n",
    "def getI(fname):\n",
    "    \n",
    "\n",
    "    arr = []\n",
    "    with open(fname) as f:\n",
    "        for content in f:    \n",
    "            nums = content.split(\" \")\n",
    "\n",
    "            connectionblob = []\n",
    "\n",
    "            child = int(nums[0])\n",
    "            connectionblob.append(child)\n",
    "            parent = int(nums[1])\n",
    "            connectionblob.append(parent)\n",
    "            num_idprmaps = int(nums[2])    \n",
    "            connectionblob.append(num_idprmaps)\n",
    "\n",
    "            childmaps = []\n",
    "            parentmaps = []\n",
    "\n",
    "            for i in xrange(2 *num_idprmaps):\n",
    "                connectionblob.append(int(nums[3+i]))\n",
    "\n",
    "            arr.append(connectionblob)\n",
    "    \n",
    "    return arr\n",
    "    \n",
    "\n",
    "        \n",
    "        #childmaps.append(nums[3 + i])\n",
    "        #parentmaps.append(nums[3 + num_idprmaps + i])\n",
    "    \n",
    "    \n",
    "    \n",
    "    #print nbApp, nbIdpr, nbDef, nbBias\n",
    "    #arr = content[1].split(\"\\t\")[:-1]\n",
    "    #print (len(arr))\n",
    "    #w = map(float, arr)\n",
    "    \n",
    "    #return nbApp, nbIdpr, nbDef, nbBias, w"
   ]
  },
  {
   "cell_type": "code",
   "execution_count": 13,
   "metadata": {
    "collapsed": false
   },
   "outputs": [
    {
     "name": "stdout",
     "output_type": "stream",
     "text": [
      "3 0 1\n",
      "3 0 7\n",
      "3 1 0\n",
      "10 1 2\n",
      "3 1 4\n",
      "10 2 1\n",
      "10 2 3\n",
      "10 3 2\n",
      "3 4 1\n",
      "6 4 5\n",
      "6 5 4\n",
      "6 5 6\n",
      "6 6 5\n",
      "3 7 0\n",
      "10 7 8\n",
      "3 7 10\n",
      "10 8 7\n",
      "10 8 9\n",
      "10 9 8\n",
      "3 10 7\n",
      "6 10 11\n",
      "6 11 10\n",
      "6 11 12\n",
      "6 12 11\n"
     ]
    }
   ],
   "source": [
    "modelfile = '/data/hdd/harzig/idpr/idpr_code_dcnn/model.txt'\n",
    "out = []\n",
    "with open(modelfile) as f:\n",
    "    l = f.readlines()\n",
    "    line = 0\n",
    "    nbjoints = int(l[line])\n",
    "    line += 1\n",
    "    for i in xrange(nbjoints):\n",
    "        nbedge = int(l[line])\n",
    "        line += 1\n",
    "        for j in xrange(nbedge):\n",
    "            fromto = l[line].split(\"\\t\")\n",
    "            line += 1\n",
    "            from_ = int(fromto[0])\n",
    "            to_ = int(fromto[1])\n",
    "            if from_ == -1 or to_ == -1:\n",
    "                continue\n",
    "            nbcluster = int(l[line])\n",
    "            print nbcluster, from_, to_\n",
    "            line += 1\n",
    "            coordsarr = []\n",
    "            for c in xrange(nbcluster):                \n",
    "                coords = l[line].split(\"\\t\")\n",
    "                line += 1\n",
    "                x = float(coords[0])\n",
    "                y = float(coords[1])\n",
    "                coordsarr.extend([x, y])\n",
    "            \n",
    "            out.append([from_, to_, coordsarr]) "
   ]
  },
  {
   "cell_type": "code",
   "execution_count": 14,
   "metadata": {
    "collapsed": false
   },
   "outputs": [],
   "source": [
    "t = getI(inferencefile)"
   ]
  },
  {
   "cell_type": "code",
   "execution_count": 15,
   "metadata": {
    "collapsed": true
   },
   "outputs": [],
   "source": [
    "def find_offsets(from_, to_, offsets):\n",
    "    for arr in offsets:\n",
    "        if arr[0] == from_ and arr[1] == to_:\n",
    "            return arr\n",
    "    return None"
   ]
  },
  {
   "cell_type": "code",
   "execution_count": 16,
   "metadata": {
    "collapsed": false
   },
   "outputs": [
    {
     "name": "stdout",
     "output_type": "stream",
     "text": [
      "20 10\n",
      "20 10\n",
      "12 6\n",
      "12 6\n",
      "6 3\n",
      "6 3\n",
      "20 10\n",
      "20 10\n",
      "12 6\n",
      "12 6\n",
      "6 3\n",
      "6 3\n"
     ]
    }
   ],
   "source": [
    "\n",
    "#store inference weights (calculation order and which idprmaps to add up per connection)\n",
    "for i in xrange(len(t)):\n",
    "    weights = t[i]\n",
    "    child_joint = weights[0]\n",
    "    parent_joint = weights[1]\n",
    "    num_clusters = weights[2]\n",
    "    offsets_1 = find_offsets(child_joint, parent_joint, out)\n",
    "    offsets_2 = find_offsets(parent_joint, child_joint, out)\n",
    "    print len(offsets_1[2]), weights[2]\n",
    "    if offsets_1 == None or offsets_2 == None:\n",
    "        print \"Did not find offset between \", child_joint, \" and \", parent_joint\n",
    "    \n",
    "    inf_weights[i,0:len(t[i])] = t[i]\n",
    "    inf_weights[i,len(t[i]):len(t[i])+len(offsets_1[2])] = offsets_1[2]\n",
    "    inf_weights[i,len(t[i])+len(offsets_1[2]):len(t[i])+len(offsets_1[2])+len(offsets_2[2])] = offsets_2[2]"
   ]
  },
  {
   "cell_type": "code",
   "execution_count": 17,
   "metadata": {
    "collapsed": false
   },
   "outputs": [
    {
     "name": "stdout",
     "output_type": "stream",
     "text": [
      "[   4.            1.            3.           52.           53.           54.\n",
      "   19.           20.           21.         -105.59290314  -25.98464775\n",
      " -135.61750793  -10.96753693  -72.58165741  -38.77911758   72.83905029\n",
      "   38.72625351  105.9141922    25.74417305  135.87535095   10.92263603\n",
      "    0.            0.            0.            0.            0.            0.\n",
      "    0.            0.            0.            0.            0.            0.\n",
      "    0.            0.            0.            0.            0.            0.\n",
      "    0.            0.            0.            0.            0.            0.\n",
      "    0.            0.            0.            0.            0.            0.\n",
      "    0.            0.            0.            0.            0.            0.\n",
      "    0.            0.            0.            0.            0.            0.\n",
      "    0.            0.            0.            0.            0.            0.\n",
      "    0.            0.            0.            0.            0.            0.\n",
      "    0.            0.            0.            0.            0.            0.\n",
      "    0.            0.            0.            0.            0.            0.\n",
      "    0.            0.            0.            0.            0.            0.\n",
      "    0.            0.            0.            0.            0.            0.\n",
      "    0.            0.            0.            0.            0.            0.\n",
      "    0.            0.            0.            0.            0.            0.\n",
      "    0.            0.            0.            0.            0.            0.\n",
      "    0.            0.            0.            0.            0.            0.\n",
      "    0.            0.            0.            0.            0.            0.\n",
      "    0.            0.            0.            0.            0.            0.\n",
      "    0.            0.            0.            0.            0.            0.\n",
      "    0.            0.            0.            0.            0.            0.\n",
      "    0.            0.            0.            0.            0.            0.\n",
      "    0.            0.            0.            0.            0.            0.\n",
      "    0.            0.            0.            0.            0.            0.\n",
      "    0.            0.            0.            0.            0.            0.\n",
      "    0.            0.            0.            0.            0.            0.\n",
      "    0.            0.            0.            0.            0.            0.\n",
      "    0.            0.            0.            0.            0.            0.\n",
      "    0.            0.            0.            0.            0.            0.\n",
      "    0.            0.            0.            0.            0.            0.\n",
      "    0.            0.            0.            0.            0.            0.\n",
      "    0.            0.            0.            0.            0.            0.\n",
      "    0.            0.            0.            0.            0.            0.\n",
      "    0.            0.            0.            0.            0.            0.\n",
      "    0.            0.            0.            0.            0.            0.\n",
      "    0.            0.            0.            0.            0.            0.\n",
      "    0.            0.            0.            0.            0.            0.\n",
      "    0.            0.            0.            0.            0.            0.\n",
      "    0.            0.            0.            0.            0.            0.\n",
      "    0.            0.            0.            0.            0.            0.\n",
      "    0.            0.            0.            0.            0.            0.\n",
      "    0.            0.            0.            0.            0.            0.\n",
      "    0.            0.            0.            0.            0.            0.\n",
      "    0.            0.            0.            0.            0.            0.\n",
      "    0.            0.            0.            0.            0.            0.\n",
      "    0.            0.            0.            0.            0.            0.\n",
      "    0.            0.            0.            0.            0.            0.\n",
      "    0.            0.            0.            0.            0.            0.\n",
      "    0.            0.            0.            0.            0.            0.\n",
      "    0.            0.            0.            0.            0.            0.\n",
      "    0.            0.            0.            0.            0.            0.\n",
      "    0.            0.            0.            0.            0.            0.\n",
      "    0.            0.            0.            0.            0.            0.\n",
      "    0.            0.            0.            0.            0.            0.\n",
      "    0.            0.            0.            0.            0.            0.\n",
      "    0.            0.            0.            0.            0.            0.\n",
      "    0.            0.            0.            0.            0.            0.\n",
      "    0.            0.            0.            0.            0.            0.\n",
      "    0.            0.            0.            0.            0.            0.\n",
      "    0.            0.            0.            0.            0.            0.\n",
      "    0.            0.            0.            0.            0.            0.\n",
      "    0.            0.            0.            0.            0.            0.\n",
      "    0.            0.            0.            0.            0.            0.\n",
      "    0.            0.            0.            0.            0.            0.\n",
      "    0.            0.            0.            0.            0.            0.\n",
      "    0.            0.            0.            0.            0.            0.\n",
      "    0.            0.            0.            0.            0.            0.\n",
      "    0.            0.            0.            0.            0.            0.\n",
      "    0.            0.            0.            0.            0.            0.\n",
      "    0.            0.            0.            0.            0.            0.\n",
      "    0.            0.            0.            0.            0.            0.\n",
      "    0.            0.            0.            0.            0.            0.\n",
      "    0.            0.            0.            0.            0.            0.\n",
      "    0.            0.            0.            0.            0.            0.\n",
      "    0.            0.            0.            0.            0.            0.\n",
      "    0.            0.            0.            0.            0.            0.\n",
      "    0.            0.            0.            0.            0.            0.\n",
      "    0.            0.            0.            0.            0.            0.\n",
      "    0.            0.            0.            0.            0.            0.\n",
      "    0.            0.            0.            0.            0.            0.\n",
      "    0.            0.            0.            0.            0.            0.\n",
      "    0.            0.            0.            0.            0.            0.\n",
      "    0.            0.            0.            0.            0.            0.\n",
      "    0.            0.            0.            0.            0.            0.\n",
      "    0.            0.            0.            0.            0.            0.\n",
      "    0.            0.            0.            0.            0.            0.\n",
      "    0.            0.            0.            0.            0.            0.\n",
      "    0.            0.            0.            0.            0.            0.\n",
      "    0.            0.            0.            0.            0.            0.\n",
      "    0.            0.            0.            0.            0.            0.\n",
      "    0.            0.            0.            0.            0.            0.\n",
      "    0.            0.            0.            0.            0.            0.\n",
      "    0.            0.            0.            0.            0.            0.\n",
      "    0.            0.            0.            0.            0.            0.\n",
      "    0.            0.            0.            0.            0.            0.\n",
      "    0.            0.            0.            0.            0.            0.\n",
      "    0.            0.            0.            0.            0.            0.\n",
      "    0.            0.            0.            0.            0.            0.\n",
      "    0.            0.            0.            0.            0.            0.\n",
      "    0.            0.            0.            0.            0.            0.\n",
      "    0.            0.            0.            0.            0.            0.\n",
      "    0.            0.            0.            0.            0.            0.\n",
      "    0.            0.            0.            0.            0.            0.\n",
      "    0.            0.            0.            0.            0.            0.\n",
      "    0.            0.            0.            0.            0.            0.\n",
      "    0.            0.            0.            0.            0.            0.\n",
      "    0.            0.            0.            0.            0.            0.\n",
      "    0.            0.            0.            0.            0.            0.\n",
      "    0.            0.            0.            0.            0.            0.\n",
      "    0.            0.            0.            0.            0.            0.\n",
      "    0.            0.            0.            0.            0.            0.\n",
      "    0.            0.            0.            0.            0.            0.\n",
      "    0.            0.            0.            0.            0.            0.\n",
      "    0.            0.            0.            0.            0.            0.\n",
      "    0.            0.            0.            0.            0.            0.\n",
      "    0.            0.            0.            0.            0.            0.\n",
      "    0.            0.            0.            0.            0.            0.\n",
      "    0.            0.            0.            0.            0.            0.\n",
      "    0.            0.            0.            0.            0.            0.\n",
      "    0.            0.            0.            0.            0.            0.\n",
      "    0.            0.            0.            0.            0.            0.\n",
      "    0.            0.            0.            0.            0.            0.\n",
      "    0.            0.            0.            0.            0.            0.\n",
      "    0.            0.            0.            0.            0.            0.\n",
      "    0.            0.            0.            0.            0.            0.\n",
      "    0.            0.            0.            0.            0.            0.\n",
      "    0.            0.            0.            0.            0.            0.\n",
      "    0.            0.            0.            0.            0.            0.\n",
      "    0.            0.            0.            0.            0.            0.\n",
      "    0.            0.            0.            0.            0.            0.\n",
      "    0.            0.            0.            0.            0.            0.\n",
      "    0.            0.            0.            0.            0.            0.\n",
      "    0.            0.            0.            0.            0.            0.\n",
      "    0.            0.            0.            0.            0.            0.\n",
      "    0.            0.            0.            0.            0.            0.\n",
      "    0.            0.            0.            0.            0.            0.\n",
      "    0.            0.            0.            0.            0.            0.\n",
      "    0.            0.            0.            0.            0.            0.\n",
      "    0.            0.            0.            0.            0.            0.\n",
      "    0.            0.            0.            0.            0.            0.\n",
      "    0.            0.            0.            0.            0.            0.\n",
      "    0.            0.            0.            0.            0.            0.\n",
      "    0.            0.            0.            0.            0.            0.\n",
      "    0.            0.            0.            0.            0.            0.\n",
      "    0.            0.            0.            0.            0.            0.\n",
      "    0.            0.            0.            0.            0.            0.\n",
      "    0.            0.            0.            0.            0.            0.\n",
      "    0.            0.            0.            0.            0.            0.\n",
      "    0.            0.            0.            0.            0.            0.        ]\n"
     ]
    }
   ],
   "source": [
    "print inf_weights[4]"
   ]
  },
  {
   "cell_type": "code",
   "execution_count": 18,
   "metadata": {
    "collapsed": true
   },
   "outputs": [],
   "source": [
    "# save changes to new binaryproto\n",
    "net.save('../../models/swimmers_fullconv/swimmers_fullconv_35x35_new.protobuf')"
   ]
  },
  {
   "cell_type": "code",
   "execution_count": null,
   "metadata": {
    "collapsed": true
   },
   "outputs": [],
   "source": []
  },
  {
   "cell_type": "code",
   "execution_count": 104,
   "metadata": {
    "collapsed": true
   },
   "outputs": [],
   "source": []
  },
  {
   "cell_type": "code",
   "execution_count": 107,
   "metadata": {
    "collapsed": true
   },
   "outputs": [],
   "source": []
  },
  {
   "cell_type": "code",
   "execution_count": 117,
   "metadata": {
    "collapsed": false
   },
   "outputs": [
    {
     "name": "stdout",
     "output_type": "stream",
     "text": [
      "3 0 1\n",
      "3 0 7\n",
      "3 1 0\n",
      "10 1 2\n",
      "3 1 4\n",
      "10 2 1\n",
      "10 2 3\n",
      "10 3 2\n",
      "3 4 1\n",
      "6 4 5\n",
      "6 5 4\n",
      "6 5 6\n",
      "6 6 5\n",
      "3 7 0\n",
      "10 7 8\n",
      "3 7 10\n",
      "10 8 7\n",
      "10 8 9\n",
      "10 9 8\n",
      "3 10 7\n",
      "6 10 11\n",
      "6 11 10\n",
      "6 11 12\n",
      "6 12 11\n"
     ]
    }
   ],
   "source": []
  },
  {
   "cell_type": "code",
   "execution_count": 118,
   "metadata": {
    "collapsed": false
   },
   "outputs": [
    {
     "name": "stdout",
     "output_type": "stream",
     "text": [
      "[0, 7, [set([-9.20967013104, 56.0402169001]), set([17.5890585242, 25.381043257]), set([-3.87093596059, 38.3596059113])]]\n"
     ]
    }
   ],
   "source": [
    "print out[1]"
   ]
  },
  {
   "cell_type": "code",
   "execution_count": 119,
   "metadata": {
    "collapsed": false
   },
   "outputs": [
    {
     "data": {
      "text/plain": [
       "24"
      ]
     },
     "execution_count": 119,
     "metadata": {},
     "output_type": "execute_result"
    }
   ],
   "source": [
    "len(out)"
   ]
  },
  {
   "cell_type": "code",
   "execution_count": null,
   "metadata": {
    "collapsed": true
   },
   "outputs": [],
   "source": []
  }
 ],
 "metadata": {
  "kernelspec": {
   "display_name": "Python 2",
   "language": "python",
   "name": "python2"
  },
  "language_info": {
   "codemirror_mode": {
    "name": "ipython",
    "version": 2
   },
   "file_extension": ".py",
   "mimetype": "text/x-python",
   "name": "python",
   "nbconvert_exporter": "python",
   "pygments_lexer": "ipython2",
   "version": "2.7.6"
  }
 },
 "nbformat": 4,
 "nbformat_minor": 0
}
