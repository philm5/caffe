{
 "cells": [
  {
   "cell_type": "code",
   "execution_count": 2,
   "metadata": {
    "collapsed": false
   },
   "outputs": [
    {
     "name": "stderr",
     "output_type": "stream",
     "text": [
      "../../python/caffe/pycaffe.py:13: RuntimeWarning: to-Python converter for boost::shared_ptr<caffe::Net<float> > already registered; second conversion method ignored.\n",
      "  from ._caffe import Net, SGDSolver, NesterovSolver, AdaGradSolver, \\\n",
      "../../python/caffe/pycaffe.py:13: RuntimeWarning: to-Python converter for boost::shared_ptr<caffe::Blob<float> > already registered; second conversion method ignored.\n",
      "  from ._caffe import Net, SGDSolver, NesterovSolver, AdaGradSolver, \\\n",
      "../../python/caffe/pycaffe.py:13: RuntimeWarning: to-Python converter for boost::shared_ptr<caffe::Solver<float> > already registered; second conversion method ignored.\n",
      "  from ._caffe import Net, SGDSolver, NesterovSolver, AdaGradSolver, \\\n"
     ]
    }
   ],
   "source": [
    "import numpy as np\n",
    "import matplotlib.pyplot as plt\n",
    "%matplotlib inline\n",
    "# Make sure that caffe is on the python path:\n",
    "caffe_root = '../../'  # this file is expected to be in {caffe_root}/examples\n",
    "import sys\n",
    "sys.path.insert(0, caffe_root + 'python')\n",
    "\n",
    "import caffe"
   ]
  },
  {
   "cell_type": "code",
   "execution_count": 3,
   "metadata": {
    "collapsed": false
   },
   "outputs": [],
   "source": [
    "caffe.set_mode_cpu()\n",
    "net = caffe.Net('../../models/swimmers_fullconv/test_dt.prototxt', caffe.TEST)\n",
    "net.reshape()"
   ]
  },
  {
   "cell_type": "code",
   "execution_count": 4,
   "metadata": {
    "collapsed": false
   },
   "outputs": [
    {
     "name": "stdout",
     "output_type": "stream",
     "text": [
      "(1, 1, 51, 51)\n",
      "[[[[ 0.  0.  0. ...,  0.  0.  0.]\n",
      "   [ 0.  0.  0. ...,  0.  0.  0.]\n",
      "   [ 0.  0.  0. ...,  0.  0.  0.]\n",
      "   ..., \n",
      "   [ 0.  0.  0. ...,  0.  0.  0.]\n",
      "   [ 0.  0.  0. ...,  0.  0.  0.]\n",
      "   [ 0.  0.  0. ...,  0.  0.  0.]]]]\n"
     ]
    }
   ],
   "source": [
    "# find max_kernels weight blob\n",
    "max_kernels = net.params['idpr_dt'][0].data\n",
    "# max_kernels.reshape(1, 152, 35, 35)\n",
    "print max_kernels.shape\n",
    "print max_kernels"
   ]
  },
  {
   "cell_type": "code",
   "execution_count": 5,
   "metadata": {
    "collapsed": false
   },
   "outputs": [
    {
     "name": "stdout",
     "output_type": "stream",
     "text": [
      "(1,)\n"
     ]
    }
   ],
   "source": [
    "# find scale term weight blob\n",
    "scale_terms = net.params['idpr_dt'][1].data\n",
    "print scale_terms.shape"
   ]
  },
  {
   "cell_type": "code",
   "execution_count": 6,
   "metadata": {
    "collapsed": false
   },
   "outputs": [],
   "source": [
    "weightsfile = '/data/hdd/harzig/idpr/idpr_code/weights.txt'\n",
    "\n",
    "\n",
    "def getDefWeight(fname, idx):\n",
    "\n",
    "    with open(fname) as f:\n",
    "        content = f.readlines()\n",
    "        \n",
    "    nums = content[0].split(\"\\t\")\n",
    "    nbApp = int(nums[0])\n",
    "    nbIdpr = int(nums[1])\n",
    "    nbDef = int(nums[2])\n",
    "    nbBias = int(nums[3])\n",
    "\n",
    "    #print nbApp, nbIdpr, nbDef, nbBias\n",
    "    arr = content[1].split(\"\\t\")[:-1]\n",
    "    #print (len(arr))\n",
    "    w = map(float, arr)\n",
    "    return w[nbApp+nbIdpr+2*idx]\n",
    "\n",
    "#for line in content:\n",
    "#    splitted = line.split(\"\\t\")\n",
    "#    from_ = int(splitted[0])\n",
    "#    to_ = int(splitted[1])\n",
    "#    cluster_ = int(splitted[2])\n",
    "#    n_ = int(splitted[3])\n",
    "#    classes[idx] = map(int, splitted[4:4+n_]) \n",
    "#    idx+=1\n",
    "#    #print idx\n",
    "    "
   ]
  },
  {
   "cell_type": "code",
   "execution_count": 7,
   "metadata": {
    "collapsed": false
   },
   "outputs": [
    {
     "data": {
      "text/plain": [
       "0.000145480002192"
      ]
     },
     "execution_count": 7,
     "metadata": {},
     "output_type": "execute_result"
    }
   ],
   "source": [
    "getDefWeight(weightsfile, 0)"
   ]
  },
  {
   "cell_type": "code",
   "execution_count": null,
   "metadata": {
    "collapsed": true
   },
   "outputs": [],
   "source": []
  },
  {
   "cell_type": "code",
   "execution_count": 8,
   "metadata": {
    "collapsed": false
   },
   "outputs": [],
   "source": [
    "\n",
    "def get_kernel_for_idx(idx):\n",
    "    multiplier = getDefWeight(weightsfile, idx)\n",
    "    kernel = np.zeros((max_kernels.shape[2], max_kernels.shape[3]))\n",
    "    half_size = (kernel.shape[0] - 1) /2\n",
    "    tmp_sum = 0\n",
    "\n",
    "    for x in xrange(-half_size, half_size+1):\n",
    "        for y in xrange(-half_size, half_size+1):\n",
    "            pixel = multiplier * (x**2 + y**2)\n",
    "            tmp_sum += pixel\n",
    "            kernel[x + half_size ,y + half_size] = pixel\n",
    "\n",
    "    return kernel\n",
    "    #print kernel #* (1 / tmp_sum)"
   ]
  },
  {
   "cell_type": "code",
   "execution_count": 9,
   "metadata": {
    "collapsed": false
   },
   "outputs": [],
   "source": [
    "# write every kernel as the same!\n",
    "for i in xrange(max_kernels.shape[1]):\n",
    "    max_kernels[0, i] = get_kernel_for_idx(i)"
   ]
  },
  {
   "cell_type": "code",
   "execution_count": 10,
   "metadata": {
    "collapsed": false
   },
   "outputs": [],
   "source": [
    "# write scale terms to 1 (for now...)\n",
    "\n",
    "for i in xrange(scale_terms.shape[0]):\n",
    "    scale_terms[i] = 1"
   ]
  },
  {
   "cell_type": "code",
   "execution_count": 11,
   "metadata": {
    "collapsed": false
   },
   "outputs": [
    {
     "name": "stdout",
     "output_type": "stream",
     "text": [
      "[[[[ 0.18185     0.17472148  0.16788392 ...,  0.16788392  0.17472148\n",
      "     0.18185   ]\n",
      "   [ 0.17472148  0.16759296  0.1607554  ...,  0.1607554   0.16759296\n",
      "     0.17472148]\n",
      "   [ 0.16788392  0.1607554   0.15391785 ...,  0.15391785  0.1607554\n",
      "     0.16788392]\n",
      "   ..., \n",
      "   [ 0.16788392  0.1607554   0.15391785 ...,  0.15391785  0.1607554\n",
      "     0.16788392]\n",
      "   [ 0.17472148  0.16759296  0.1607554  ...,  0.1607554   0.16759296\n",
      "     0.17472148]\n",
      "   [ 0.18185     0.17472148  0.16788392 ...,  0.16788392  0.17472148\n",
      "     0.18185   ]]]] [ 1.]\n"
     ]
    }
   ],
   "source": [
    "print max_kernels, scale_terms"
   ]
  },
  {
   "cell_type": "code",
   "execution_count": 12,
   "metadata": {
    "collapsed": true
   },
   "outputs": [],
   "source": [
    "# save changes to new binaryproto\n",
    "net.save('../../models/swimmers_fullconv/test_dt.protobuf')"
   ]
  },
  {
   "cell_type": "code",
   "execution_count": null,
   "metadata": {
    "collapsed": true
   },
   "outputs": [],
   "source": []
  },
  {
   "cell_type": "code",
   "execution_count": null,
   "metadata": {
    "collapsed": true
   },
   "outputs": [],
   "source": []
  }
 ],
 "metadata": {
  "kernelspec": {
   "display_name": "Python 2",
   "language": "python",
   "name": "python2"
  },
  "language_info": {
   "codemirror_mode": {
    "name": "ipython",
    "version": 2
   },
   "file_extension": ".py",
   "mimetype": "text/x-python",
   "name": "python",
   "nbconvert_exporter": "python",
   "pygments_lexer": "ipython2",
   "version": "2.7.6"
  }
 },
 "nbformat": 4,
 "nbformat_minor": 0
}
