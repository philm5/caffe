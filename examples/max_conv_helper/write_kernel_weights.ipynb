{
 "cells": [
  {
   "cell_type": "code",
   "execution_count": 2,
   "metadata": {
    "collapsed": false
   },
   "outputs": [
    {
     "name": "stderr",
     "output_type": "stream",
     "text": [
      "../python/caffe/pycaffe.py:13: RuntimeWarning: to-Python converter for boost::shared_ptr<caffe::Net<float> > already registered; second conversion method ignored.\n",
      "  from ._caffe import Net, SGDSolver, NesterovSolver, AdaGradSolver, \\\n",
      "../python/caffe/pycaffe.py:13: RuntimeWarning: to-Python converter for boost::shared_ptr<caffe::Blob<float> > already registered; second conversion method ignored.\n",
      "  from ._caffe import Net, SGDSolver, NesterovSolver, AdaGradSolver, \\\n",
      "../python/caffe/pycaffe.py:13: RuntimeWarning: to-Python converter for boost::shared_ptr<caffe::Solver<float> > already registered; second conversion method ignored.\n",
      "  from ._caffe import Net, SGDSolver, NesterovSolver, AdaGradSolver, \\\n"
     ]
    }
   ],
   "source": [
    "import numpy as np\n",
    "import matplotlib.pyplot as plt\n",
    "%matplotlib inline\n",
    "# Make sure that caffe is on the python path:\n",
    "caffe_root = '../'  # this file is expected to be in {caffe_root}/examples\n",
    "import sys\n",
    "sys.path.insert(0, caffe_root + 'python')\n",
    "\n",
    "import caffe"
   ]
  },
  {
   "cell_type": "code",
   "execution_count": 3,
   "metadata": {
    "collapsed": false
   },
   "outputs": [],
   "source": [
    "caffe.set_mode_cpu()\n",
    "net = caffe.Net('../models/swimmers_fullconv/swimmers_fullconv_small.prototxt', \n",
    "                '../models/swimmers_fullconv/out_new_small.binaryproto', caffe.TEST)\n",
    "net.reshape()"
   ]
  },
  {
   "cell_type": "code",
   "execution_count": 4,
   "metadata": {
    "collapsed": false
   },
   "outputs": [
    {
     "name": "stdout",
     "output_type": "stream",
     "text": [
      "(1, 152, 7, 7)\n"
     ]
    }
   ],
   "source": [
    "# find max_kernels weight blob\n",
    "max_kernels = net.params['idpr_dt'][0].data\n",
    "# max_kernels.reshape(1, 152, 35, 35)\n",
    "print max_kernels.shape"
   ]
  },
  {
   "cell_type": "code",
   "execution_count": 5,
   "metadata": {
    "collapsed": false
   },
   "outputs": [
    {
     "name": "stdout",
     "output_type": "stream",
     "text": [
      "(152,)\n"
     ]
    }
   ],
   "source": [
    "# find scale term weight blob\n",
    "scale_terms = net.params['idpr_dt'][1].data\n",
    "print scale_terms.shape"
   ]
  },
  {
   "cell_type": "code",
   "execution_count": 6,
   "metadata": {
    "collapsed": false
   },
   "outputs": [
    {
     "name": "stdout",
     "output_type": "stream",
     "text": [
      "[[ 0.18  0.13  0.1   0.09  0.1   0.13  0.18]\n",
      " [ 0.13  0.08  0.05  0.04  0.05  0.08  0.13]\n",
      " [ 0.1   0.05  0.02  0.01  0.02  0.05  0.1 ]\n",
      " [ 0.09  0.04  0.01  0.    0.01  0.04  0.09]\n",
      " [ 0.1   0.05  0.02  0.01  0.02  0.05  0.1 ]\n",
      " [ 0.13  0.08  0.05  0.04  0.05  0.08  0.13]\n",
      " [ 0.18  0.13  0.1   0.09  0.1   0.13  0.18]]\n"
     ]
    }
   ],
   "source": [
    "multiplier = 0.01\n",
    "kernel = np.zeros((max_kernels.shape[2], max_kernels.shape[3]))\n",
    "half_size = (kernel.shape[0] - 1) /2\n",
    "tmp_sum = 0\n",
    "\n",
    "for x in xrange(-half_size, half_size+1):\n",
    "    for y in xrange(-half_size, half_size+1):\n",
    "        pixel = multiplier * (x**2 + y**2)\n",
    "        tmp_sum += pixel\n",
    "        kernel[x + half_size ,y + half_size] = pixel\n",
    "\n",
    "print kernel #* (1 / tmp_sum)"
   ]
  },
  {
   "cell_type": "code",
   "execution_count": 7,
   "metadata": {
    "collapsed": false
   },
   "outputs": [],
   "source": [
    "# write every kernel as the same!\n",
    "for i in xrange(max_kernels.shape[1]):\n",
    "    max_kernels[0, i] = kernel"
   ]
  },
  {
   "cell_type": "code",
   "execution_count": 8,
   "metadata": {
    "collapsed": false
   },
   "outputs": [],
   "source": [
    "# write scale terms to 1 (for now...)\n",
    "\n",
    "for i in xrange(scale_terms.shape[0]):\n",
    "    scale_terms[i] = 1"
   ]
  },
  {
   "cell_type": "code",
   "execution_count": 9,
   "metadata": {
    "collapsed": false
   },
   "outputs": [
    {
     "name": "stdout",
     "output_type": "stream",
     "text": [
      "[[[[ 0.18000001  0.13        0.1        ...,  0.1         0.13        0.18000001]\n",
      "   [ 0.13        0.08        0.05       ...,  0.05        0.08        0.13      ]\n",
      "   [ 0.1         0.05        0.02       ...,  0.02        0.05        0.1       ]\n",
      "   ..., \n",
      "   [ 0.1         0.05        0.02       ...,  0.02        0.05        0.1       ]\n",
      "   [ 0.13        0.08        0.05       ...,  0.05        0.08        0.13      ]\n",
      "   [ 0.18000001  0.13        0.1        ...,  0.1         0.13        0.18000001]]\n",
      "\n",
      "  [[ 0.18000001  0.13        0.1        ...,  0.1         0.13        0.18000001]\n",
      "   [ 0.13        0.08        0.05       ...,  0.05        0.08        0.13      ]\n",
      "   [ 0.1         0.05        0.02       ...,  0.02        0.05        0.1       ]\n",
      "   ..., \n",
      "   [ 0.1         0.05        0.02       ...,  0.02        0.05        0.1       ]\n",
      "   [ 0.13        0.08        0.05       ...,  0.05        0.08        0.13      ]\n",
      "   [ 0.18000001  0.13        0.1        ...,  0.1         0.13        0.18000001]]\n",
      "\n",
      "  [[ 0.18000001  0.13        0.1        ...,  0.1         0.13        0.18000001]\n",
      "   [ 0.13        0.08        0.05       ...,  0.05        0.08        0.13      ]\n",
      "   [ 0.1         0.05        0.02       ...,  0.02        0.05        0.1       ]\n",
      "   ..., \n",
      "   [ 0.1         0.05        0.02       ...,  0.02        0.05        0.1       ]\n",
      "   [ 0.13        0.08        0.05       ...,  0.05        0.08        0.13      ]\n",
      "   [ 0.18000001  0.13        0.1        ...,  0.1         0.13        0.18000001]]\n",
      "\n",
      "  ..., \n",
      "  [[ 0.18000001  0.13        0.1        ...,  0.1         0.13        0.18000001]\n",
      "   [ 0.13        0.08        0.05       ...,  0.05        0.08        0.13      ]\n",
      "   [ 0.1         0.05        0.02       ...,  0.02        0.05        0.1       ]\n",
      "   ..., \n",
      "   [ 0.1         0.05        0.02       ...,  0.02        0.05        0.1       ]\n",
      "   [ 0.13        0.08        0.05       ...,  0.05        0.08        0.13      ]\n",
      "   [ 0.18000001  0.13        0.1        ...,  0.1         0.13        0.18000001]]\n",
      "\n",
      "  [[ 0.18000001  0.13        0.1        ...,  0.1         0.13        0.18000001]\n",
      "   [ 0.13        0.08        0.05       ...,  0.05        0.08        0.13      ]\n",
      "   [ 0.1         0.05        0.02       ...,  0.02        0.05        0.1       ]\n",
      "   ..., \n",
      "   [ 0.1         0.05        0.02       ...,  0.02        0.05        0.1       ]\n",
      "   [ 0.13        0.08        0.05       ...,  0.05        0.08        0.13      ]\n",
      "   [ 0.18000001  0.13        0.1        ...,  0.1         0.13        0.18000001]]\n",
      "\n",
      "  [[ 0.18000001  0.13        0.1        ...,  0.1         0.13        0.18000001]\n",
      "   [ 0.13        0.08        0.05       ...,  0.05        0.08        0.13      ]\n",
      "   [ 0.1         0.05        0.02       ...,  0.02        0.05        0.1       ]\n",
      "   ..., \n",
      "   [ 0.1         0.05        0.02       ...,  0.02        0.05        0.1       ]\n",
      "   [ 0.13        0.08        0.05       ...,  0.05        0.08        0.13      ]\n",
      "   [ 0.18000001  0.13        0.1        ...,  0.1         0.13        0.18000001]]]] [ 1.  1.  1.  1.  1.  1.  1.  1.  1.  1.  1.  1.  1.  1.  1.  1.  1.  1.\n",
      "  1.  1.  1.  1.  1.  1.  1.  1.  1.  1.  1.  1.  1.  1.  1.  1.  1.  1.\n",
      "  1.  1.  1.  1.  1.  1.  1.  1.  1.  1.  1.  1.  1.  1.  1.  1.  1.  1.\n",
      "  1.  1.  1.  1.  1.  1.  1.  1.  1.  1.  1.  1.  1.  1.  1.  1.  1.  1.\n",
      "  1.  1.  1.  1.  1.  1.  1.  1.  1.  1.  1.  1.  1.  1.  1.  1.  1.  1.\n",
      "  1.  1.  1.  1.  1.  1.  1.  1.  1.  1.  1.  1.  1.  1.  1.  1.  1.  1.\n",
      "  1.  1.  1.  1.  1.  1.  1.  1.  1.  1.  1.  1.  1.  1.  1.  1.  1.  1.\n",
      "  1.  1.  1.  1.  1.  1.  1.  1.  1.  1.  1.  1.  1.  1.  1.  1.  1.  1.\n",
      "  1.  1.  1.  1.  1.  1.  1.  1.]\n"
     ]
    }
   ],
   "source": [
    "print max_kernels, scale_terms"
   ]
  },
  {
   "cell_type": "code",
   "execution_count": 10,
   "metadata": {
    "collapsed": true
   },
   "outputs": [],
   "source": [
    "# save changes to new binaryproto\n",
    "net.save('../models/swimmers_fullconv/out_new_small.binaryproto')"
   ]
  },
  {
   "cell_type": "code",
   "execution_count": null,
   "metadata": {
    "collapsed": true
   },
   "outputs": [],
   "source": []
  }
 ],
 "metadata": {
  "kernelspec": {
   "display_name": "Python 2",
   "language": "python",
   "name": "python2"
  },
  "language_info": {
   "codemirror_mode": {
    "name": "ipython",
    "version": 2
   },
   "file_extension": ".py",
   "mimetype": "text/x-python",
   "name": "python",
   "nbconvert_exporter": "python",
   "pygments_lexer": "ipython2",
   "version": "2.7.6"
  }
 },
 "nbformat": 4,
 "nbformat_minor": 0
}
