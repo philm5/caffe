{
 "cells": [
  {
   "cell_type": "code",
   "execution_count": null,
   "metadata": {
    "collapsed": false
   },
   "outputs": [],
   "source": [
    "import numpy as np\n",
    "import matplotlib.pyplot as plt\n",
    "%matplotlib inline\n",
    "# Make sure that caffe is on the python path:\n",
    "caffe_root = '../../'  # this file is expected to be in {caffe_root}/examples\n",
    "import sys\n",
    "sys.path.insert(0, caffe_root + 'python')\n",
    "#print sys.path\n",
    "\n",
    "import caffe"
   ]
  },
  {
   "cell_type": "code",
   "execution_count": null,
   "metadata": {
    "collapsed": true
   },
   "outputs": [],
   "source": [
    "import cv2"
   ]
  },
  {
   "cell_type": "code",
   "execution_count": null,
   "metadata": {
    "collapsed": false
   },
   "outputs": [],
   "source": [
    "caffe.set_mode_gpu()\n",
    "net = caffe.Net(caffe_root + 'models/swimmers_fullconv/swimmers_fullconv.prototxt', \n",
    "                caffe_root + 'models/swimmers_fullconv/out_new_big.binaryproto', caffe.TEST)\n",
    "net.reshape()"
   ]
  },
  {
   "cell_type": "code",
   "execution_count": null,
   "metadata": {
    "collapsed": false
   },
   "outputs": [],
   "source": [
    "\n"
   ]
  },
  {
   "cell_type": "code",
   "execution_count": null,
   "metadata": {
    "collapsed": false
   },
   "outputs": [],
   "source": [
    "image = caffe.io.load_image(caffe_root + 'models/swimmers_fullconv/swimmer01.jpg')\n",
    "im_resized = cv2.resize(img_in, (1800,1440))\n",
    "# create transformer for the input called 'data'\n",
    "transformer = caffe.io.Transformer({'data': net.blobs['data'].data.shape})\n",
    "transformer.set_transpose('data', (2,0,1))  # move image channels to outermost dimension\n",
    "mu = np.array([103.9, 116.8, 123.68])\n",
    "transformer.set_mean('data', mu)            # subtract the dataset-mean value in each channel\n",
    "transformer.set_raw_scale('data', 255)      # rescale from [0, 1] to [0, 255]\n",
    "transformer.set_channel_swap('data', (2,1,0))  # swap channels from RGB to BGR\n",
    "\n",
    "transformed_image = transformer.preprocess('data', image)\n",
    "# copy the image data into the memory allocated for the net\n",
    "net.blobs['data'].data[...] = transformed_image\n",
    "\n",
    "### perform classification\n",
    "output = net.forward()\n",
    "#print  net.blobs['idprclasses'].data\n",
    "\n",
    "firstMap = net.blobs['idprclasses'].data[0,1,:,:].copy()"
   ]
  },
  {
   "cell_type": "code",
   "execution_count": null,
   "metadata": {
    "collapsed": false
   },
   "outputs": [],
   "source": [
    "net = None\n",
    "net = caffe.Net(caffe_root + 'models/swimmers_fullconv/swimmers_fullconv.prototxt', \n",
    "                caffe_root + 'models/swimmers_fullconv/out_new_big.binaryproto', caffe.TEST)\n",
    "net.reshape()\n",
    "image = caffe.io.load_image(caffe_root + 'models/swimmers_fullconv/swimmer01.jpg')\n",
    "im_resized = cv2.resize(img_in, (1800,1440))\n",
    "# create transformer for the input called 'data'\n",
    "transformer = caffe.io.Transformer({'data': net.blobs['data'].data.shape})\n",
    "transformer.set_transpose('data', (2,0,1))  # move image channels to outermost dimension\n",
    "mu = np.array([103.9, 116.8, 123.68])\n",
    "transformer.set_mean('data', mu)            # subtract the dataset-mean value in each channel\n",
    "transformer.set_raw_scale('data', 255)      # rescale from [0, 1] to [0, 255]\n",
    "transformer.set_channel_swap('data', (2,1,0))  # swap channels from RGB to BGR\n",
    "\n",
    "transformed_image = transformer.preprocess('data', image)\n",
    "# copy the image data into the memory allocated for the net\n",
    "net.blobs['data'].data[...] = transformed_image\n",
    "\n",
    "### perform classification\n",
    "output = net.forward()\n",
    "#print  net.blobs['idprclasses'].data\n",
    "\n",
    "secondMap = net.blobs['idprclasses'].data[0,1,:,:].copy()"
   ]
  },
  {
   "cell_type": "code",
   "execution_count": null,
   "metadata": {
    "collapsed": false
   },
   "outputs": [],
   "source": [
    "diff = secondMap - firstMap\n",
    "print(np.mean(firstMap))\n",
    "print(np.mean(secondMap))\n",
    "print(np.mean(diff))\n",
    "print(np.max(np.abs(diff)))\n",
    "plt.imshow(diff)"
   ]
  },
  {
   "cell_type": "code",
   "execution_count": null,
   "metadata": {
    "collapsed": false
   },
   "outputs": [],
   "source": [
    "net.blobs['data'].data[...] = transformed_image#im_resized.reshape(1,3,1440,1800)\n",
    "output = net.forward()\n",
    "scndMap = net.blobs['upscale2'].data[0,1,:,:]\n",
    "#print scndMap\n",
    "plt.imshow(scndMap)\n",
    "\n",
    "b = np.empty_like(scndMap)\n",
    "b[:] = scndMap"
   ]
  },
  {
   "cell_type": "code",
   "execution_count": null,
   "metadata": {
    "collapsed": false
   },
   "outputs": [],
   "source": [
    "net.blobs['data'].data[...] = transformed_image#im_resized.reshape(1,3,1440,1800)\n",
    "output = net.forward()\n",
    "t = net.blobs['upscale2'].data[0,1,:,:]\n",
    "#print scndMap\n",
    "plt.imshow(t)\n",
    "\n",
    "c = np.empty_like(t)\n",
    "c[:] = t"
   ]
  },
  {
   "cell_type": "code",
   "execution_count": null,
   "metadata": {
    "collapsed": false
   },
   "outputs": [],
   "source": [
    "diff = c - b\n",
    "plt.imshow(diff)"
   ]
  },
  {
   "cell_type": "code",
   "execution_count": null,
   "metadata": {
    "collapsed": true
   },
   "outputs": [],
   "source": []
  }
 ],
 "metadata": {
  "kernelspec": {
   "display_name": "Python 2",
   "language": "python",
   "name": "python2"
  },
  "language_info": {
   "codemirror_mode": {
    "name": "ipython",
    "version": 2
   },
   "file_extension": ".py",
   "mimetype": "text/x-python",
   "name": "python",
   "nbconvert_exporter": "python",
   "pygments_lexer": "ipython2",
   "version": "2.7.6"
  }
 },
 "nbformat": 4,
 "nbformat_minor": 0
}
